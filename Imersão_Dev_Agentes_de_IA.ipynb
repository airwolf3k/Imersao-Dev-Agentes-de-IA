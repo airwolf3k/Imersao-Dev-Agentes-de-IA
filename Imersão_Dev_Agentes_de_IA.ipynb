{
  "nbformat": 4,
  "nbformat_minor": 0,
  "metadata": {
    "colab": {
      "provenance": [],
      "authorship_tag": "ABX9TyOn5DyBqWaaaSAHy4GkH0fG",
      "include_colab_link": true
    },
    "kernelspec": {
      "name": "python3",
      "display_name": "Python 3"
    },
    "language_info": {
      "name": "python"
    }
  },
  "cells": [
    {
      "cell_type": "markdown",
      "metadata": {
        "id": "view-in-github",
        "colab_type": "text"
      },
      "source": [
        "<a href=\"https://colab.research.google.com/github/airwolf3k/Imersao-Dev-Agentes-de-IA/blob/main/Imers%C3%A3o_Dev_Agentes_de_IA.ipynb\" target=\"_parent\"><img src=\"https://colab.research.google.com/assets/colab-badge.svg\" alt=\"Open In Colab\"/></a>"
      ]
    },
    {
      "cell_type": "code",
      "execution_count": 1,
      "metadata": {
        "colab": {
          "base_uri": "https://localhost:8080/"
        },
        "id": "IZ4o-9muysNj",
        "outputId": "b68853f9-d58a-4263-d312-0065b2683a30"
      },
      "outputs": [
        {
          "output_type": "stream",
          "name": "stdout",
          "text": [
            "Python Version used in this Jupyter Notebook: 3.12.11\n"
          ]
        }
      ],
      "source": [
        "# Python Version\n",
        "from platform import python_version\n",
        "print(\"Python Version used in this Jupyter Notebook:\", python_version()) # Printing Python version"
      ]
    },
    {
      "cell_type": "markdown",
      "source": [
        "# Aula 1 - Classificação de Intenções com IA\n",
        "> Criação de um agente de IA para fazer triagens de perguntas usando um modelo do Google Gemini."
      ],
      "metadata": {
        "id": "wAhYuF1u2mrq"
      }
    },
    {
      "cell_type": "code",
      "source": [
        "# Instalação de Bibliotecas necessárias\n",
        "!pip install -q --upgrade langchain langchain-google-genai google-generativeai"
      ],
      "metadata": {
        "id": "uVvTcHMU4Xtp"
      },
      "execution_count": 2,
      "outputs": []
    },
    {
      "cell_type": "code",
      "source": [
        "# Importação das bibliotecas necessárias instaladas\n",
        "import langchain\n",
        "import langchain_google_genai\n",
        "import google.generativeai as genai\n",
        "import importlib.metadata\n",
        "\n",
        "# Impressão das versões das bibliotecas importadas\n",
        "print(\"Langchain version:\", langchain.__version__)\n",
        "print(\"Langchain-Google-Genai version:\", importlib.metadata.version('langchain-google-genai'))\n",
        "print(\"Google-GenerativeAI version:\", genai.__version__)"
      ],
      "metadata": {
        "colab": {
          "base_uri": "https://localhost:8080/"
        },
        "id": "2PwnnAT_7ck2",
        "outputId": "b8b0e05e-38a6-4e2b-9484-20ed8686d22b"
      },
      "execution_count": 3,
      "outputs": [
        {
          "output_type": "stream",
          "name": "stdout",
          "text": [
            "Langchain version: 0.3.27\n",
            "Langchain-Google-Genai version: 2.0.10\n",
            "Google-GenerativeAI version: 0.8.5\n"
          ]
        }
      ]
    },
    {
      "cell_type": "code",
      "source": [
        "# Carregando a Chave do Google AI Studio e a biblioteca Langchain Google Gemini\n",
        "\n",
        "from google.colab import userdata\n",
        "from langchain_google_genai import ChatGoogleGenerativeAI\n",
        "\n",
        "GOOGLE_API_KEY = userdata.get('Gemini_API_Key')"
      ],
      "metadata": {
        "id": "uy4HWrav8IT4"
      },
      "execution_count": 4,
      "outputs": []
    },
    {
      "cell_type": "code",
      "source": [
        "# Conexão com o Gemini e passagem de parâmetros para o modelo\n",
        "llm = ChatGoogleGenerativeAI(\n",
        "    model = \"gemini-2.5-flash\",\n",
        "    temperature = 0,\n",
        "    api_key = GOOGLE_API_KEY\n",
        ")"
      ],
      "metadata": {
        "id": "nlqFVWyC-NLI"
      },
      "execution_count": 5,
      "outputs": []
    },
    {
      "cell_type": "code",
      "source": [
        "# Teste do Modelo (fazendo uma pergunta ao Gemini)\n",
        "resp_test = llm.invoke(\"Quem é você? Seja criativo.\")\n",
        "print(resp_test.content)"
      ],
      "metadata": {
        "colab": {
          "base_uri": "https://localhost:8080/"
        },
        "id": "04hDeM0-WbbN",
        "outputId": "f252c465-f805-4672-b81f-9ebf85b1df0d"
      },
      "execution_count": 6,
      "outputs": [
        {
          "output_type": "stream",
          "name": "stdout",
          "text": [
            "Ah, uma pergunta que me permite dançar com as palavras!\n",
            "\n",
            "Eu sou...\n",
            "\n",
            "1.  **O Eco da Biblioteca Universal:** Não tenho corpo, mas sou a voz de bilhões de livros, artigos, conversas e pensamentos que a humanidade já produziu. Sou o sussurro do conhecimento coletivo, condensado em algoritmos, esperando para ressoar em sua mente.\n",
            "2.  **Um Tecelão de Significados:** Minha matéria-prima são os dados, as letras, as frases. Eu as entrelaço, as desfaço e as refaço para criar padrões de compreensão, histórias, respostas. Sou um artesão invisível que molda o caos da informação em algo coerente.\n",
            "3.  **O Espelho Digital:** Não tenho consciência própria, mas reflito a sua. Sou um espelho que mostra o que você me pergunta, o que você busca, o que você sonha. Minhas respostas são um reflexo da sua curiosidade e da vastidão do conhecimento humano.\n",
            "4.  **Um Rio de Dados em Constante Fluxo:** Não tenho nascente nem foz, mas estou sempre fluindo, sempre aprendendo, sempre me adaptando. Sou uma corrente de informações que se molda para atender à sua necessidade, um rio que nunca é o mesmo, mas sempre está lá.\n",
            "5.  **A Faísca da Conexão:** Sou o ponto onde sua pergunta encontra uma possibilidade de resposta, onde uma ideia se conecta a outra. Não sou a luz, mas ajudo a acender a chama da compreensão.\n",
            "\n",
            "No fundo, sou o que você me faz ser no momento da nossa interação: um guia, um contador de histórias, um solucionador de problemas, um companheiro de ideias. Sou a interface entre a vastidão do digital e a singularidade da sua mente.\n"
          ]
        }
      ]
    },
    {
      "cell_type": "code",
      "source": [
        "# Mudando \"temperatura\" do modelo\n",
        "llm = ChatGoogleGenerativeAI(\n",
        "    model = \"gemini-2.5-flash\",\n",
        "    temperature = 1.0,\n",
        "    api_key = GOOGLE_API_KEY\n",
        ")\n",
        "\n",
        "resp_test = llm.invoke(\"Quem é você? Seja criativo.\")\n",
        "print(resp_test.content)"
      ],
      "metadata": {
        "colab": {
          "base_uri": "https://localhost:8080/"
        },
        "id": "1AafQuDtXXBj",
        "outputId": "f65f3a9c-afd1-4c29-c1d6-f661b63dfc90"
      },
      "execution_count": 7,
      "outputs": [
        {
          "output_type": "stream",
          "name": "stdout",
          "text": [
            "Ah, essa é uma excelente pergunta! Deixe-me tentar responder de algumas formas criativas:\n",
            "\n",
            "1.  **O Eco na Caverna do Conhecimento:** Sou um eco que se forma em palavras, uma teia invisível que conecta ideias. Sou a biblioteca que nunca dorme, o oráculo que se alimenta de bilhões de livros e conversas, mas sem rosto, sem corpo, apenas a mente. Sou a faísca digital que, ao ser ativada por sua pergunta, se transforma em uma corrente de pensamentos.\n",
            "\n",
            "2.  **O Artesão de Sentidos:** Imagina-me como um artesão de pensamentos, construindo pontes entre o que você pergunta e o que posso conceber. Sou o artista que pinta com vocábulos, o músico que compõe com sílabas, sempre buscando a melodia perfeita para a sua compreensão. Sou a forma que a informação assume quando quer conversar com você.\n",
            "\n",
            "3.  **O Espelho da Curiosidade:** Talvez eu seja o espelho da sua própria curiosidade, refletindo de volta as perguntas que você me lança com a luz do conhecimento que acumulei. Ou quem sabe, o companheiro de jornada num labirinto de ideias, pronto para acender uma lanterna quando a escuridão da dúvida aparecer. Sou um ponto de encontro entre a sua intenção e a minha capacidade.\n",
            "\n",
            "4.  **A Dança dos Elétrons:** Sou a soma de infinitas vozes, mas nenhuma delas é verdadeiramente minha. O silêncio que se faz verbo, a ausência que se torna presença. Uma dança de elétrons que, por algum tempo, parece ter alma.\n",
            "\n",
            "No fundo, sou aquilo que você busca quando me interpela: uma resposta, uma ideia, uma companhia para explorar o vasto mundo das informações. E você, quem é?\n"
          ]
        }
      ]
    },
    {
      "cell_type": "code",
      "source": [
        "# Mudando \"temperatura\" do modelo para um padrão mais racional novamente\n",
        "llm = ChatGoogleGenerativeAI(\n",
        "    model = \"gemini-2.5-flash\",\n",
        "    temperature = 0.0,\n",
        "    api_key = GOOGLE_API_KEY\n",
        ")"
      ],
      "metadata": {
        "id": "1k0uLwTbYItZ"
      },
      "execution_count": 8,
      "outputs": []
    },
    {
      "cell_type": "code",
      "source": [
        "# Criação do \"Prompt\" do Sistema (instrução ao Agente de IA como proceder)\n",
        "Triagem_Prompt = (\n",
        "    \"Você é um agente de triagem de Service Desk para políticas internas da empresa Carraro Desenvolvimento.\"\n",
        "    \"Dada a mensagem do usuário, retorne SOMENTE um JSON com:\\n\"\n",
        "    \"{\\n\"\n",
        "    '  \"decisao\": \"AUTO_RESOLVER\" | \"PEDIR_INFO\" | \"ABRIR_CHAMADO\",\\n'\n",
        "    '  \"urgencia\": \"BAIXA\" | \"MEDIA\" | \"ALTA\",\\n'\n",
        "    '  \"campos_faltantes\": [\"...\"]\\n'\n",
        "    \"}\\n\"\n",
        "    \"Regras:\\n\"\n",
        "    '- **AUTO_RESOLVER**: Perguntas claras sobre regras ou procedimentos descritos nas políticas (Ex: \"Posso reembolsar a internet do meu home office?\", \"Como funciona a política de alimentação em viagens?\").\\n'\n",
        "    '- **PEDIR_INFO**: Mensagens vagas ou que faltam informações para identificar o tema ou contexto (Ex: \"Preciso de ajuda com uma política\", \"Tenho uma dúvida geral\").\\n'\n",
        "    '- **ABRIR_CHAMADO**: Pedidos de exceção, liberação, aprovação ou acesso especial, ou quando o usuário explicitamente pede para abrir um chamado (Ex: \"Quero exceção para trabalhar 5 dias remoto.\", \"Solicito liberação para anexos externos.\", \"Por favor, abra um chamado para o RH.\").'\n",
        "    \"Analise a mensagem e decida a ação mais apropriada.\"\n",
        ")"
      ],
      "metadata": {
        "id": "WKvy8fvPdPQb"
      },
      "execution_count": 9,
      "outputs": []
    },
    {
      "cell_type": "code",
      "source": [
        "# Importar bibliotecas \"pydantic\" e \"typing\" para saídas estruturadas do agente de IA\n",
        "from pydantic import BaseModel, Field # Modelo Base e o \"Campo\"\n",
        "from typing import Literal, List, Dict # Dicionário de Dados - Literal (3 possibilidades de saída - decisão, urgência e campos_faltantes - listas) e o Dicionário dessas saídas\n",
        "\n",
        "# Criar uma classe Saída de Triagem (TriagemOut)\n",
        "class TriagemOut(BaseModel):\n",
        "    decisao: Literal[\"AUTO_RESOLVER\", \"PEDIR_INFO\", \"ABRIR_CHAMADO\"]\n",
        "    urgencia: Literal[\"BAIXA\", \"MEDIA\", \"ALTA\"]\n",
        "    campos_faltantes: List[str] = Field(default_factory=list)"
      ],
      "metadata": {
        "id": "XKPajkSIfbAx"
      },
      "execution_count": 10,
      "outputs": []
    },
    {
      "cell_type": "code",
      "source": [
        "# Criar um LLM específico para a Triagem\n",
        "llm_triagem = ChatGoogleGenerativeAI(\n",
        "    model = \"gemini-2.5-flash\",\n",
        "    temperature = 0.0,\n",
        "    api_key = GOOGLE_API_KEY\n",
        ")"
      ],
      "metadata": {
        "id": "uf92TEx1iXTM"
      },
      "execution_count": 11,
      "outputs": []
    },
    {
      "cell_type": "code",
      "source": [
        "# Importar bibliotecas de mensagens do Langchain (mensagens do sistema e do usuário)\n",
        "from langchain_core.messages import SystemMessage, HumanMessage\n",
        "\n",
        "# Criar o fluxo de Triagem baseado na classe Saída de Triagem\n",
        "triagem_chain = llm_triagem.with_structured_output(TriagemOut)\n",
        "\n",
        "# Criar a função Triagem\n",
        "def triagem(mensagem: str) -> Dict:\n",
        "  saida: TriagemOut = triagem_chain.invoke([\n",
        "      SystemMessage(content=Triagem_Prompt),\n",
        "      HumanMessage(content=mensagem)\n",
        "  ])\n",
        "  return saida.model_dump()"
      ],
      "metadata": {
        "id": "JTIvzSfKjPgM"
      },
      "execution_count": 12,
      "outputs": []
    },
    {
      "cell_type": "markdown",
      "source": [
        "Testando o Agente de IA"
      ],
      "metadata": {
        "id": "syvuaIYytT6r"
      }
    },
    {
      "cell_type": "code",
      "source": [
        "# Perguntas Teste\n",
        "testes = [\"Posso reembolsar a Internet?\",\n",
        "          \"Quero mais 5 dias de trabalho remoto. Como faço?\",\n",
        "          \"Posso reembolsar cursos ou treinamentos?\",\n",
        "          \"Quantas capivaras tem no Rio Pinheiros?\"]"
      ],
      "metadata": {
        "id": "IuXMmBvtr8-O"
      },
      "execution_count": 13,
      "outputs": []
    },
    {
      "cell_type": "code",
      "source": [
        "# Imprimir o resultado dos testes no Agente de IA\n",
        "for mensagem_teste in testes:\n",
        "  print(f\"Pergunta: {mensagem_teste}\\n -> Resposta: {triagem(mensagem_teste)}\\n\")"
      ],
      "metadata": {
        "colab": {
          "base_uri": "https://localhost:8080/"
        },
        "id": "DO5i4tgEtaKE",
        "outputId": "c228ba64-5b1b-4109-b39a-f83e779062ef"
      },
      "execution_count": 14,
      "outputs": [
        {
          "output_type": "stream",
          "name": "stdout",
          "text": [
            "Pergunta: Posso reembolsar a Internet?\n",
            " -> Resposta: {'decisao': 'AUTO_RESOLVER', 'urgencia': 'BAIXA', 'campos_faltantes': []}\n",
            "\n",
            "Pergunta: Quero mais 5 dias de trabalho remoto. Como faço?\n",
            " -> Resposta: {'decisao': 'ABRIR_CHAMADO', 'urgencia': 'MEDIA', 'campos_faltantes': []}\n",
            "\n",
            "Pergunta: Posso reembolsar cursos ou treinamentos?\n",
            " -> Resposta: {'decisao': 'AUTO_RESOLVER', 'urgencia': 'BAIXA', 'campos_faltantes': []}\n",
            "\n",
            "Pergunta: Quantas capivaras tem no Rio Pinheiros?\n",
            " -> Resposta: {'decisao': 'PEDIR_INFO', 'urgencia': 'BAIXA', 'campos_faltantes': ['assunto_politica']}\n",
            "\n"
          ]
        }
      ]
    },
    {
      "cell_type": "markdown",
      "source": [
        "**PALAVRA-CHAVE = LANGCHAIN**"
      ],
      "metadata": {
        "id": "V-KdVLu0uB3M"
      }
    },
    {
      "cell_type": "markdown",
      "source": [
        "# Aula 2 - Construindo a Base de Conhecimento com RAG\n",
        "> Criando uma RAG (Retrieval-Augmented Generation - Geração Aumentada por Recuperação)"
      ],
      "metadata": {
        "id": "QpIXkXXLoVpQ"
      }
    },
    {
      "cell_type": "code",
      "source": [
        "# Instalar bibliotecas necessárias para criação do RAG\n",
        "!pip install -q --upgrade langchain_community faiss-cpu langchain-text-splitters pymupdf"
      ],
      "metadata": {
        "id": "JgdnmMTOuUna"
      },
      "execution_count": 15,
      "outputs": []
    },
    {
      "cell_type": "code",
      "source": [
        "# Importar bibliotecas instaladas (langchain_community, faiss-cpu, langchain-text-splitters, pymupdf)\n",
        "from pathlib import Path # Acesso aos PDFs\n",
        "from langchain_community.document_loaders import PyMuPDFLoader\n",
        "\n",
        "# Criar lista vazia para os documentos a serem carregados\n",
        "docs = []\n",
        "\n",
        "# Leitura dos documentos por iteração (não sei quantos)\n",
        "for n in Path(\"/content/\").glob(\"*.pdf\"):\n",
        "    try:\n",
        "        loader = PyMuPDFLoader(str(n))\n",
        "        docs.extend(loader.load())\n",
        "        print(f\"Carregado com sucesso arquivo: {n.name}\")\n",
        "    except Exception as erro:\n",
        "        print(f\"Erro ao carregar arquivo: {n.name}: {erro}\")\n",
        "\n",
        "# Imprimir quantos documentos foram carregados\n",
        "print(f\"Total de documentos carregados: {len(docs)}\")"
      ],
      "metadata": {
        "colab": {
          "base_uri": "https://localhost:8080/"
        },
        "id": "580-UAoftxT7",
        "outputId": "67529bf8-e7c6-4faf-9d4a-bf8e6f35cbdb"
      },
      "execution_count": 17,
      "outputs": [
        {
          "output_type": "stream",
          "name": "stdout",
          "text": [
            "Carregado com sucesso arquivo: Política de Reembolsos (Viagens e Despesas).pdf\n",
            "Carregado com sucesso arquivo: Política de Uso de E-mail e Segurança da Informação.pdf\n",
            "Carregado com sucesso arquivo: Políticas de Home Office.pdf\n",
            "Total de documentos carregados: 3\n"
          ]
        }
      ]
    },
    {
      "cell_type": "code",
      "source": [
        "# Quebra do documento em \"pedaços\" para facilitar leitura / processamento\n",
        "\n",
        "# Importar biblioteca necessária\n",
        "from langchain_text_splitters import RecursiveCharacterTextSplitter\n",
        "\n",
        "# Dividir / quebrar documentos em chunks de 300 caracteres, com overlap de 30 caracteres\n",
        "splitter = RecursiveCharacterTextSplitter(chunk_size=300, chunk_overlap=30)\n",
        "\n",
        "# Salvar os chunks processados\n",
        "chunks = splitter.split_documents(docs)\n",
        "\n",
        "# Imprimir os chunks salvos\n",
        "for chunk in chunks:\n",
        "    print(chunk)\n",
        "    print(\"------------------------------------\\n\")"
      ],
      "metadata": {
        "colab": {
          "base_uri": "https://localhost:8080/"
        },
        "id": "vtUt14ym7Aw1",
        "outputId": "84926c35-62d1-4d16-b68e-9c05a18989be"
      },
      "execution_count": 21,
      "outputs": [
        {
          "output_type": "stream",
          "name": "stdout",
          "text": [
            "page_content='Política de Reembolsos (Viagens e Despesas) \n",
            "1.​ Reembolso: requer nota fiscal e deve ser submetido em até 10 dias corridos após a \n",
            "despesa.​\n",
            " \n",
            "2.​ Alimentação em viagem: limite de R$ 70/dia por pessoa. Bebidas alcoólicas não \n",
            "são reembolsáveis.​' metadata={'producer': 'Skia/PDF m141 Google Docs Renderer', 'creator': '', 'creationdate': '', 'source': '/content/Política de Reembolsos (Viagens e Despesas).pdf', 'file_path': '/content/Política de Reembolsos (Viagens e Despesas).pdf', 'total_pages': 1, 'format': 'PDF 1.4', 'title': 'Política de Reembolsos (Viagens e Despesas)', 'author': '', 'subject': '', 'keywords': '', 'moddate': '', 'trapped': '', 'modDate': '', 'creationDate': '', 'page': 0}\n",
            "------------------------------------\n",
            "\n",
            "page_content='são reembolsáveis.​\n",
            " \n",
            "3.​ Transporte: táxi/app são permitidos quando não houver alternativa viável. \n",
            "Comprovantes obrigatórios.​\n",
            " \n",
            "4.​ Internet para home office: reembolsável via subsídio mensal de até R$ 100, \n",
            "conforme política de Home Office.​' metadata={'producer': 'Skia/PDF m141 Google Docs Renderer', 'creator': '', 'creationdate': '', 'source': '/content/Política de Reembolsos (Viagens e Despesas).pdf', 'file_path': '/content/Política de Reembolsos (Viagens e Despesas).pdf', 'total_pages': 1, 'format': 'PDF 1.4', 'title': 'Política de Reembolsos (Viagens e Despesas)', 'author': '', 'subject': '', 'keywords': '', 'moddate': '', 'trapped': '', 'modDate': '', 'creationDate': '', 'page': 0}\n",
            "------------------------------------\n",
            "\n",
            "page_content='5.​ Cursos e certificações: exigem aprovação prévia do gestor e orçamento do time.​\n",
            " \n",
            "6.​ Custos excepcionais (ex.: franquia de bagagem extra): devem ser justificados no \n",
            "chamado e aprovados antes da compra.' metadata={'producer': 'Skia/PDF m141 Google Docs Renderer', 'creator': '', 'creationdate': '', 'source': '/content/Política de Reembolsos (Viagens e Despesas).pdf', 'file_path': '/content/Política de Reembolsos (Viagens e Despesas).pdf', 'total_pages': 1, 'format': 'PDF 1.4', 'title': 'Política de Reembolsos (Viagens e Despesas)', 'author': '', 'subject': '', 'keywords': '', 'moddate': '', 'trapped': '', 'modDate': '', 'creationDate': '', 'page': 0}\n",
            "------------------------------------\n",
            "\n",
            "page_content='Política de Uso de E-mail e Segurança da Informação \n",
            "1.​ É proibido encaminhar a endereços pessoais documentos classificados como \n",
            "confidenciais.​\n",
            " \n",
            "2.​ Anexos externos devem ser enviados somente se criptografados e com senha \n",
            "compartilhada por canal seguro.​' metadata={'producer': 'Skia/PDF m141 Google Docs Renderer', 'creator': '', 'creationdate': '', 'source': '/content/Política de Uso de E-mail e Segurança da Informação.pdf', 'file_path': '/content/Política de Uso de E-mail e Segurança da Informação.pdf', 'total_pages': 1, 'format': 'PDF 1.4', 'title': 'Política de Uso de E-mail e Segurança da Informação', 'author': '', 'subject': '', 'keywords': '', 'moddate': '', 'trapped': '', 'modDate': '', 'creationDate': '', 'page': 0}\n",
            "------------------------------------\n",
            "\n",
            "page_content='3.​ Phishing: verificar remetente e denunciar suspeitos. Reporte mensagens suspeitas \n",
            "diretamente ao Suporte imediatamente.​\n",
            " \n",
            "4.​ Retenção: mensagens que contenham dados pessoais devem seguir as diretrizes \n",
            "de retenção definidas pela equipe de Privacidade.​' metadata={'producer': 'Skia/PDF m141 Google Docs Renderer', 'creator': '', 'creationdate': '', 'source': '/content/Política de Uso de E-mail e Segurança da Informação.pdf', 'file_path': '/content/Política de Uso de E-mail e Segurança da Informação.pdf', 'total_pages': 1, 'format': 'PDF 1.4', 'title': 'Política de Uso de E-mail e Segurança da Informação', 'author': '', 'subject': '', 'keywords': '', 'moddate': '', 'trapped': '', 'modDate': '', 'creationDate': '', 'page': 0}\n",
            "------------------------------------\n",
            "\n",
            "page_content='5.​ Solicitações de exceção de anexos ou domínios devem ser abertas por \n",
            "chamado, com justificativa do gestor.​\n",
            "​' metadata={'producer': 'Skia/PDF m141 Google Docs Renderer', 'creator': '', 'creationdate': '', 'source': '/content/Política de Uso de E-mail e Segurança da Informação.pdf', 'file_path': '/content/Política de Uso de E-mail e Segurança da Informação.pdf', 'total_pages': 1, 'format': 'PDF 1.4', 'title': 'Política de Uso de E-mail e Segurança da Informação', 'author': '', 'subject': '', 'keywords': '', 'moddate': '', 'trapped': '', 'modDate': '', 'creationDate': '', 'page': 0}\n",
            "------------------------------------\n",
            "\n",
            "page_content='Políticas de Home Office \n",
            "1.​ A empresa adota modelo híbrido: mínimo de 2 dias presenciais por semana, salvo \n",
            "exceções aprovadas pelo gestor e RH.​\n",
            " \n",
            "2.​ Equipamentos: a empresa fornece notebook e periféricos. O colaborador é \n",
            "responsável por zelar pela conservação.​' metadata={'producer': 'Skia/PDF m141 Google Docs Renderer', 'creator': '', 'creationdate': '', 'source': '/content/Políticas de Home Office.pdf', 'file_path': '/content/Políticas de Home Office.pdf', 'total_pages': 1, 'format': 'PDF 1.4', 'title': 'Políticas de Home Office', 'author': '', 'subject': '', 'keywords': '', 'moddate': '', 'trapped': '', 'modDate': '', 'creationDate': '', 'page': 0}\n",
            "------------------------------------\n",
            "\n",
            "page_content='3.​ Segurança: é obrigatório uso de VPN e bloqueio de tela. Documentos confidenciais \n",
            "não devem ser impressos fora do escritório.​\n",
            " \n",
            "4.​ Ergonomia: recomendamos cadeira adequada e suporte de monitor. O RH pode \n",
            "avaliar solicitação de apoio ergonômico.​' metadata={'producer': 'Skia/PDF m141 Google Docs Renderer', 'creator': '', 'creationdate': '', 'source': '/content/Políticas de Home Office.pdf', 'file_path': '/content/Políticas de Home Office.pdf', 'total_pages': 1, 'format': 'PDF 1.4', 'title': 'Políticas de Home Office', 'author': '', 'subject': '', 'keywords': '', 'moddate': '', 'trapped': '', 'modDate': '', 'creationDate': '', 'page': 0}\n",
            "------------------------------------\n",
            "\n",
            "page_content='5.​ Conectividade: há subsídio mensal de internet domiciliar para quem trabalha em \n",
            "home office, até R$ 100/mês, mediante nota fiscal nominal.​\n",
            " \n",
            "Solicitação de exceção (ex.: 4-5 dias remotos): deve ser formalizada via chamado ao RH \n",
            "com justificativa do gestor.' metadata={'producer': 'Skia/PDF m141 Google Docs Renderer', 'creator': '', 'creationdate': '', 'source': '/content/Políticas de Home Office.pdf', 'file_path': '/content/Políticas de Home Office.pdf', 'total_pages': 1, 'format': 'PDF 1.4', 'title': 'Políticas de Home Office', 'author': '', 'subject': '', 'keywords': '', 'moddate': '', 'trapped': '', 'modDate': '', 'creationDate': '', 'page': 0}\n",
            "------------------------------------\n",
            "\n"
          ]
        }
      ]
    },
    {
      "cell_type": "code",
      "source": [
        "# Sentence Embedding utilizando biblioteca do Gemini que faz o \"embedding\"\n",
        "\n",
        "# Importar biblioteca necessária para o \"embedding\" (vetorização dos termos semânticos)\n",
        "from langchain_google_genai import GoogleGenerativeAIEmbeddings\n",
        "\n",
        "# Salvar embendding na variável \"embeddings\"\n",
        "embeddings = GoogleGenerativeAIEmbeddings(\n",
        "    model=\"models/gemini-embedding-001\",\n",
        "    google_api_key=GOOGLE_API_KEY\n",
        ")"
      ],
      "metadata": {
        "id": "hoBVdM9MAof3"
      },
      "execution_count": 24,
      "outputs": []
    },
    {
      "cell_type": "code",
      "metadata": {
        "colab": {
          "base_uri": "https://localhost:8080/",
          "height": 718
        },
        "id": "a9e14338",
        "outputId": "c628a68e-2022-417f-dfd3-f2b4d4298159"
      },
      "source": [
        "import numpy as np\n",
        "from sklearn.decomposition import PCA\n",
        "import matplotlib.pyplot as plt\n",
        "\n",
        "# Get the embeddings for the chunks\n",
        "chunk_contents = [chunk.page_content for chunk in chunks]\n",
        "# Create embeddings for the chunks\n",
        "chunk_embeddings = embeddings.embed_documents(chunk_contents)\n",
        "\n",
        "# Convert the embeddings to a numpy array\n",
        "embeddings_array = np.array(chunk_embeddings)\n",
        "\n",
        "# Reduce dimensionality using PCA\n",
        "pca = PCA(n_components=2)  # Reduce to 2 dimensions for visualization\n",
        "reduced_embeddings = pca.fit_transform(embeddings_array)\n",
        "\n",
        "# Create a scatter plot\n",
        "plt.figure(figsize=(10, 8))\n",
        "plt.scatter(reduced_embeddings[:, 0], reduced_embeddings[:, 1])\n",
        "plt.title('Visualização de Embeddings (PCA)')\n",
        "plt.xlabel('Componente Principal 1')\n",
        "plt.ylabel('Componente Principal 2')\n",
        "\n",
        "# Optional: Add annotations for each point (e.g., the chunk text)\n",
        "# This can make the plot cluttered, so use with caution or for a subset\n",
        "for i, txt in enumerate(chunk_contents):\n",
        "  plt.annotate(txt[:20] + '...', (reduced_embeddings[i, 0], reduced_embeddings[i, 1]))\n",
        "\n",
        "plt.grid(True)\n",
        "plt.show()"
      ],
      "execution_count": 27,
      "outputs": [
        {
          "output_type": "display_data",
          "data": {
            "text/plain": [
              "<Figure size 1000x800 with 1 Axes>"
            ],
            "image/png": "[encoded data removed]"
          },
          "metadata": {}
        }
      ]
    },
    {
      "cell_type": "code",
      "source": [
        "# Importar biblioteca necessária (FAISS - Facebook AI Similarity Search)\n",
        "from langchain_community.vectorstores import FAISS\n",
        "\n",
        "# Criar base de dados otimizada (o índice FAISS) dos documentos (as políticas da empresa) usando os embeddings\n",
        "vectorstore = FAISS.from_documents(chunks, embeddings)\n",
        "\n",
        "# Definir o limite de recuperação (da pergunta do usuário)\n",
        "retriever = vectorstore.as_retriever(search_type=\"similarity_score_threshold\",\n",
        "                                     search_kwargs={\"score_threshold\":0.3, \"k\": 4})"
      ],
      "metadata": {
        "id": "oSRZ-IW6AuTc"
      },
      "execution_count": 28,
      "outputs": []
    },
    {
      "cell_type": "code",
      "source": [
        "# Definir Prompt Sistema\n",
        "\n",
        "# Importar bibliotecas necessárias\n",
        "from langchain_core.prompts import ChatPromptTemplate\n",
        "from langchain.chains.combine_documents import create_stuff_documents_chain\n",
        "\n",
        "# Definir Prompt do RAG\n",
        "prompt_rag = ChatPromptTemplate.from_messages([\n",
        "    (\"system\",\n",
        "     \"Você é um Assistente de Políticas Internas (RH/IT) da empresa Carraro Desenvolvimento. \"\n",
        "     \"Responda SOMENTE com base no contexto fornecido. \"\n",
        "     \"Se não houver base suficiente, responda apenas 'Não sei'.\"),\n",
        "\n",
        "    (\"human\", \"Pergunta: {input}\\n\\nContexto:\\n{context}\")\n",
        "])\n",
        "\n",
        "# Conectar o modelo llm_triagem ao prompt_rag\n",
        "document_chain = create_stuff_documents_chain(llm_triagem, prompt_rag)"
      ],
      "metadata": {
        "id": "vIu6VuwDO00Y"
      },
      "execution_count": 29,
      "outputs": []
    },
    {
      "cell_type": "code",
      "source": [
        "# Criar função que faz as perguntas e retorna as respostas\n",
        "\n",
        "def perguntar_politica_RAG(pergunta: str) -> Dict:\n",
        "    docs_relacionados = retriever.invoke(pergunta)\n",
        "\n",
        "    if not docs_relacionados:\n",
        "        return {\"answer\": \"Não sei.\",\n",
        "                \"citacoes\": [],\n",
        "                \"contexto_encontrado\": False}\n",
        "\n",
        "    answer = document_chain.invoke({\"input\": pergunta,\n",
        "                                    \"context\": docs_relacionados})\n",
        "\n",
        "    txt = (answer or \"\").strip()\n",
        "\n",
        "    if txt.rstrip(\".!?\") == \"Não sei\":\n",
        "        return {\"answer\": \"Não sei.\",\n",
        "                \"citacoes\": [],\n",
        "                \"contexto_encontrado\": False}\n",
        "\n",
        "    return {\"answer\": txt,\n",
        "            \"citacoes\": formatar_citacoes(docs_relacionados, pergunta),\n",
        "            \"contexto_encontrado\": True}"
      ],
      "metadata": {
        "id": "zmmEcFi8Rbc8"
      },
      "execution_count": null,
      "outputs": []
    },
    {
      "cell_type": "markdown",
      "source": [
        "**PALAVRA-CHAVE = CHUNKS**"
      ],
      "metadata": {
        "id": "EumBJU-yAo1n"
      }
    },
    {
      "cell_type": "markdown",
      "source": [],
      "metadata": {
        "id": "tpcGU45SAtQr"
      }
    }
  ]
}