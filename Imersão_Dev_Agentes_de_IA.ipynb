{
  "nbformat": 4,
  "nbformat_minor": 0,
  "metadata": {
    "colab": {
      "provenance": [],
      "authorship_tag": "ABX9TyPI32AH3VVhcabsFCk3mQMG",
      "include_colab_link": true
    },
    "kernelspec": {
      "name": "python3",
      "display_name": "Python 3"
    },
    "language_info": {
      "name": "python"
    }
  },
  "cells": [
    {
      "cell_type": "markdown",
      "metadata": {
        "id": "view-in-github",
        "colab_type": "text"
      },
      "source": [
        "<a href=\"https://colab.research.google.com/github/airwolf3k/Imersao-Dev-Agentes-de-IA/blob/main/Imers%C3%A3o_Dev_Agentes_de_IA.ipynb\" target=\"_parent\"><img src=\"https://colab.research.google.com/assets/colab-badge.svg\" alt=\"Open In Colab\"/></a>"
      ]
    },
    {
      "cell_type": "code",
      "execution_count": 1,
      "metadata": {
        "colab": {
          "base_uri": "https://localhost:8080/"
        },
        "id": "IZ4o-9muysNj",
        "outputId": "1aaec501-7c8f-423d-bad2-373509086ce3"
      },
      "outputs": [
        {
          "output_type": "stream",
          "name": "stdout",
          "text": [
            "Python Version used in this Jupyter Notebook: 3.12.11\n"
          ]
        }
      ],
      "source": [
        "# Python Version\n",
        "from platform import python_version\n",
        "print(\"Python Version used in this Jupyter Notebook:\", python_version()) # Printing Python version"
      ]
    },
    {
      "cell_type": "markdown",
      "source": [
        "# Aula 1 - Classificação de Intenções com IA\n",
        "> Ensinar a carregar arquivos CSV no Google Colab, realizar leitura e visualização inicial de dados com Pandas. O aluno começará a manipular bases reais de dados com comandos simples de análise."
      ],
      "metadata": {
        "id": "wAhYuF1u2mrq"
      }
    }
  ]
}