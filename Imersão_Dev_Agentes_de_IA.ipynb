{
  "nbformat": 4,
  "nbformat_minor": 0,
  "metadata": {
    "colab": {
      "provenance": [],
      "authorship_tag": "ABX9TyNbaEmu8un4wAhuEHdrgHdY",
      "include_colab_link": true
    },
    "kernelspec": {
      "name": "python3",
      "display_name": "Python 3"
    },
    "language_info": {
      "name": "python"
    }
  },
  "cells": [
    {
      "cell_type": "markdown",
      "metadata": {
        "id": "view-in-github",
        "colab_type": "text"
      },
      "source": [
        "<a href=\"https://colab.research.google.com/github/airwolf3k/Imersao-Dev-Agentes-de-IA/blob/main/Imers%C3%A3o_Dev_Agentes_de_IA.ipynb\" target=\"_parent\"><img src=\"https://colab.research.google.com/assets/colab-badge.svg\" alt=\"Open In Colab\"/></a>"
      ]
    },
    {
      "cell_type": "code",
      "execution_count": 1,
      "metadata": {
        "colab": {
          "base_uri": "https://localhost:8080/"
        },
        "id": "IZ4o-9muysNj",
        "outputId": "27c9e93d-0c02-4cda-8669-1e7530a33622"
      },
      "outputs": [
        {
          "output_type": "stream",
          "name": "stdout",
          "text": [
            "Python Version used in this Jupyter Notebook: 3.12.11\n"
          ]
        }
      ],
      "source": [
        "# Python Version\n",
        "from platform import python_version\n",
        "print(\"Python Version used in this Jupyter Notebook:\", python_version()) # Printing Python version"
      ]
    },
    {
      "cell_type": "markdown",
      "source": [
        "# Aula 1 - Classificação de Intenções com IA\n",
        "> Ensinar a carregar arquivos CSV no Google Colab, realizar leitura e visualização inicial de dados com Pandas. O aluno começará a manipular bases reais de dados com comandos simples de análise."
      ],
      "metadata": {
        "id": "wAhYuF1u2mrq"
      }
    },
    {
      "cell_type": "code",
      "source": [
        "# Instalação de Bibliotecas necessárias\n",
        "!pip install -q --upgrade langchain langchain-google-genai google-generativeai"
      ],
      "metadata": {
        "id": "uVvTcHMU4Xtp"
      },
      "execution_count": 2,
      "outputs": []
    },
    {
      "cell_type": "code",
      "source": [
        "# Importação das bibliotecas necessárias instaladas\n",
        "import langchain\n",
        "import langchain_google_genai\n",
        "import google.generativeai as genai\n",
        "import importlib.metadata\n",
        "\n",
        "# Impressão das versões das bibliotecas importadas\n",
        "print(\"Langchain version:\", langchain.__version__)\n",
        "print(\"Langchain-Google-Genai version:\", importlib.metadata.version('langchain-google-genai'))\n",
        "print(\"Google-GenerativeAI version:\", genai.__version__)"
      ],
      "metadata": {
        "colab": {
          "base_uri": "https://localhost:8080/"
        },
        "id": "2PwnnAT_7ck2",
        "outputId": "04275ede-119d-4023-b9db-e29532156d69"
      },
      "execution_count": 3,
      "outputs": [
        {
          "output_type": "stream",
          "name": "stdout",
          "text": [
            "Langchain version: 0.3.27\n",
            "Langchain-Google-Genai version: 2.0.10\n",
            "Google-GenerativeAI version: 0.8.5\n"
          ]
        }
      ]
    },
    {
      "cell_type": "code",
      "source": [
        "# Carregando a Chave do Google AI Studio e a biblioteca desejada\n",
        "\n",
        "from google.colab import userdata\n",
        "from langchain_google_genai import ChatGoogleGenerativeAI\n",
        "\n",
        "GOOGLE_API_KEY = userdata.get('Gemini_API_Key')"
      ],
      "metadata": {
        "id": "uy4HWrav8IT4"
      },
      "execution_count": 4,
      "outputs": []
    },
    {
      "cell_type": "code",
      "source": [],
      "metadata": {
        "id": "nlqFVWyC-NLI"
      },
      "execution_count": 4,
      "outputs": []
    }
  ]
}