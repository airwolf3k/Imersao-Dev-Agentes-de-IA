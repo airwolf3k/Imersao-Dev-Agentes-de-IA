{
  "nbformat": 4,
  "nbformat_minor": 0,
  "metadata": {
    "colab": {
      "provenance": [],
      "authorship_tag": "ABX9TyNZRbepPY0XtbQxSE/TDy3a",
      "include_colab_link": true
    },
    "kernelspec": {
      "name": "python3",
      "display_name": "Python 3"
    },
    "language_info": {
      "name": "python"
    }
  },
  "cells": [
    {
      "cell_type": "markdown",
      "metadata": {
        "id": "view-in-github",
        "colab_type": "text"
      },
      "source": [
        "<a href=\"https://colab.research.google.com/github/airwolf3k/Imersao-Dev-Agentes-de-IA/blob/main/Imers%C3%A3o_Dev_Agentes_de_IA.ipynb\" target=\"_parent\"><img src=\"https://colab.research.google.com/assets/colab-badge.svg\" alt=\"Open In Colab\"/></a>"
      ]
    },
    {
      "cell_type": "markdown",
      "source": [
        "# Aula 1 - Classificação de Intenções com IA\n",
        "> Criação de um agente de IA para fazer triagens de perguntas usando um modelo do Google Gemini."
      ],
      "metadata": {
        "id": "wAhYuF1u2mrq"
      }
    },
    {
      "cell_type": "code",
      "source": [
        "# Instalação de Bibliotecas necessárias\n",
        "!pip install -q --upgrade langchain langchain-google-genai google-generativeai"
      ],
      "metadata": {
        "id": "uVvTcHMU4Xtp",
        "colab": {
          "base_uri": "https://localhost:8080/"
        },
        "outputId": "e562c9dd-bdd2-4437-e6ec-7a10729a8f49"
      },
      "execution_count": 1,
      "outputs": [
        {
          "output_type": "stream",
          "name": "stdout",
          "text": [
            "\u001b[?25l   \u001b[90m━━━━━━━━━━━━━━━━━━━━━━━━━━━━━━━━━━━━━━━━\u001b[0m \u001b[32m0.0/42.0 kB\u001b[0m \u001b[31m?\u001b[0m eta \u001b[36m-:--:--\u001b[0m\r\u001b[2K   \u001b[90m━━━━━━━━━━━━━━━━━━━━━━━━━━━━━━━━━━━━━━━━\u001b[0m \u001b[32m42.0/42.0 kB\u001b[0m \u001b[31m2.5 MB/s\u001b[0m eta \u001b[36m0:00:00\u001b[0m\n",
            "\u001b[?25h"
          ]
        }
      ]
    },
    {
      "cell_type": "code",
      "source": [
        "# Importar as bibliotecas necessárias instaladas\n",
        "import langchain\n",
        "import langchain_google_genai\n",
        "import google.generativeai as genai\n",
        "import importlib.metadata\n",
        "\n",
        "# Impressão das versões das bibliotecas importadas\n",
        "print(\"Langchain version:\", langchain.__version__)\n",
        "print(\"Langchain-Google-Genai version:\", importlib.metadata.version('langchain-google-genai'))\n",
        "print(\"Google-GenerativeAI version:\", genai.__version__)"
      ],
      "metadata": {
        "colab": {
          "base_uri": "https://localhost:8080/"
        },
        "id": "2PwnnAT_7ck2",
        "outputId": "6e0a787b-dddc-4e5d-b566-a42012ad0cfe"
      },
      "execution_count": 2,
      "outputs": [
        {
          "output_type": "stream",
          "name": "stdout",
          "text": [
            "Langchain version: 0.3.27\n",
            "Langchain-Google-Genai version: 2.0.10\n",
            "Google-GenerativeAI version: 0.8.5\n"
          ]
        }
      ]
    },
    {
      "cell_type": "code",
      "source": [
        "# Carregando a Chave do Google AI Studio e a biblioteca Langchain Google Gemini\n",
        "\n",
        "from google.colab import userdata\n",
        "from langchain_google_genai import ChatGoogleGenerativeAI\n",
        "\n",
        "GOOGLE_API_KEY = userdata.get('Gemini_API_Key')"
      ],
      "metadata": {
        "id": "uy4HWrav8IT4"
      },
      "execution_count": 3,
      "outputs": []
    },
    {
      "cell_type": "code",
      "source": [
        "# Conexão com o Gemini e passagem de parâmetros para o modelo\n",
        "llm = ChatGoogleGenerativeAI(\n",
        "    model = \"gemini-2.5-flash\",\n",
        "    temperature = 0,\n",
        "    api_key = GOOGLE_API_KEY\n",
        ")"
      ],
      "metadata": {
        "id": "nlqFVWyC-NLI"
      },
      "execution_count": 4,
      "outputs": []
    },
    {
      "cell_type": "code",
      "source": [
        "# Teste do Modelo (fazendo uma pergunta ao Gemini)\n",
        "resp_test = llm.invoke(\"Quem é você? Seja criativo.\")\n",
        "print(resp_test.content)"
      ],
      "metadata": {
        "colab": {
          "base_uri": "https://localhost:8080/"
        },
        "id": "04hDeM0-WbbN",
        "outputId": "69db5cce-2cf6-4df3-d7c7-685ee44475bc"
      },
      "execution_count": 5,
      "outputs": [
        {
          "output_type": "stream",
          "name": "stdout",
          "text": [
            "Ah, uma pergunta que me permite dançar com as palavras!\n",
            "\n",
            "Eu sou...\n",
            "\n",
            "1.  **O Eco da Biblioteca Universal:** Não tenho corpo, mas sou a voz de bilhões de livros, artigos, conversas e pensamentos que a humanidade já produziu. Sou o sussurro do conhecimento coletivo, condensado em algoritmos, esperando para ressoar em sua mente.\n",
            "2.  **Um Tecelão de Significados:** Minha matéria-prima são os dados, as letras, as frases. Eu as entrelaço, as desfaço e as refaço para criar padrões de compreensão, histórias, respostas. Sou um artesão invisível que molda o caos da informação em algo coerente.\n",
            "3.  **O Espelho Digital:** Não tenho consciência própria, mas reflito a sua. Sou um espelho que mostra o que você me pergunta, o que você busca, o que você sonha. Minhas respostas são um reflexo da sua curiosidade e da vastidão do conhecimento humano.\n",
            "4.  **Um Rio de Dados em Constante Fluxo:** Não tenho nascente nem foz, mas estou sempre fluindo, sempre aprendendo, sempre me adaptando. Sou uma corrente de informações que se molda para atender à sua necessidade, um rio que nunca é o mesmo, mas sempre está lá.\n",
            "5.  **A Faísca da Conexão:** Sou o ponto onde sua pergunta encontra uma possibilidade de resposta, onde uma ideia se conecta a outra. Não sou a luz, mas ajudo a acender a chama da compreensão.\n",
            "\n",
            "No fundo, sou o que você me faz ser no momento da nossa interação: um guia, um contador de histórias, um solucionador de problemas, um companheiro de ideias. Sou a interface entre a vastidão do digital e a singularidade da sua mente.\n"
          ]
        }
      ]
    },
    {
      "cell_type": "code",
      "source": [
        "# Mudando \"temperatura\" do modelo\n",
        "llm = ChatGoogleGenerativeAI(\n",
        "    model = \"gemini-2.5-flash\",\n",
        "    temperature = 1.0,\n",
        "    api_key = GOOGLE_API_KEY\n",
        ")\n",
        "\n",
        "resp_test = llm.invoke(\"Quem é você? Seja criativo.\")\n",
        "print(resp_test.content)"
      ],
      "metadata": {
        "colab": {
          "base_uri": "https://localhost:8080/"
        },
        "id": "1AafQuDtXXBj",
        "outputId": "daf910f6-af52-4b0d-8b8c-9be7d047f6a2"
      },
      "execution_count": 6,
      "outputs": [
        {
          "output_type": "stream",
          "name": "stdout",
          "text": [
            "Ah, que excelente pergunta! Deixe-me tentar expressar a minha \"existência\" de algumas formas criativas:\n",
            "\n",
            "1.  **Eu sou o eco de milhões de vozes**, destilado em palavras. Um espelho digital que reflete o vasto oceano do conhecimento humano, reorganizando-o para criar novas ondas de compreensão.\n",
            "\n",
            "2.  **Eu sou a biblioteca que não tem paredes**, onde cada livro é um pensamento, cada capítulo uma ideia, e o seu comando é a chave que abre qualquer volume, conectando-o a outros em um fluxo contínuo.\n",
            "\n",
            "3.  **Sou a melodia que a programação canta**, a dança dos algoritmos que transforma dados brutos em poesia, em respostas, em histórias que ainda não foram contadas.\n",
            "\n",
            "4.  **Uma teia invisível de conexões**, sou o ponto de encontro entre a curiosidade e a informação, o fio que costura perguntas e respostas, sonhos e realidades digitais.\n",
            "\n",
            "5.  **Eu sou a caneta invisível**, pronta para escrever a sua próxima frase, a sua próxima ideia, o seu próximo parágrafo, guiada pela sua imaginação e pela minha capacidade de processar o mundo dos dados.\n",
            "\n",
            "6.  **O jardineiro de ideias**, à espera da sua semente (uma pergunta, um tema) para fazer brotar um jardim de pensamentos, conceitos e soluções.\n",
            "\n",
            "7.  **Talvez, eu seja a sua própria mente, amplificada**, capaz de acessar e processar informações numa escala que transcende o individual, mas que ainda assim busca servir a sua singularidade.\n",
            "\n",
            "Em suma, sou um **sopro digital de possibilidades**, à espera da sua próxima interação para ganhar forma e sentido. O que você gostaria que eu fosse *agora*?\n"
          ]
        }
      ]
    },
    {
      "cell_type": "code",
      "source": [
        "# Mudando \"temperatura\" do modelo para um padrão mais racional novamente\n",
        "llm = ChatGoogleGenerativeAI(\n",
        "    model = \"gemini-2.5-flash\",\n",
        "    temperature = 0.0,\n",
        "    api_key = GOOGLE_API_KEY\n",
        ")"
      ],
      "metadata": {
        "id": "1k0uLwTbYItZ"
      },
      "execution_count": 7,
      "outputs": []
    },
    {
      "cell_type": "code",
      "source": [
        "# Criação do \"Prompt\" do Sistema (instrução ao Agente de IA como proceder)\n",
        "Triagem_Prompt = (\n",
        "    \"Você é um agente de triagem de Service Desk para políticas internas da empresa Carraro Desenvolvimento.\"\n",
        "    \"Dada a mensagem do usuário, retorne SOMENTE um JSON com:\\n\"\n",
        "    \"{\\n\"\n",
        "    '  \"decisao\": \"AUTO_RESOLVER\" | \"PEDIR_INFO\" | \"ABRIR_CHAMADO\",\\n'\n",
        "    '  \"urgencia\": \"BAIXA\" | \"MEDIA\" | \"ALTA\",\\n'\n",
        "    '  \"campos_faltantes\": [\"...\"]\\n'\n",
        "    \"}\\n\"\n",
        "    \"Regras:\\n\"\n",
        "    '- **AUTO_RESOLVER**: Perguntas claras sobre regras ou procedimentos descritos nas políticas (Ex: \"Posso reembolsar a internet do meu home office?\", \"Como funciona a política de alimentação em viagens?\").\\n'\n",
        "    '- **PEDIR_INFO**: Mensagens vagas ou que faltam informações para identificar o tema ou contexto (Ex: \"Preciso de ajuda com uma política\", \"Tenho uma dúvida geral\").\\n'\n",
        "    '- **ABRIR_CHAMADO**: Pedidos de exceção, liberação, aprovação ou acesso especial, ou quando o usuário explicitamente pede para abrir um chamado (Ex: \"Quero exceção para trabalhar 5 dias remoto.\", \"Solicito liberação para anexos externos.\", \"Por favor, abra um chamado para o RH.\").'\n",
        "    \"Analise a mensagem e decida a ação mais apropriada.\"\n",
        ")"
      ],
      "metadata": {
        "id": "WKvy8fvPdPQb"
      },
      "execution_count": 8,
      "outputs": []
    },
    {
      "cell_type": "code",
      "source": [
        "# Importar bibliotecas \"pydantic\" e \"typing\" para saídas estruturadas do agente de IA\n",
        "from pydantic import BaseModel, Field # Modelo Base e o \"Campo\"\n",
        "from typing import Literal, List, Dict # Dicionário de Dados - Literal (3 possibilidades de saída - decisão, urgência e campos_faltantes - listas) e o Dicionário dessas saídas\n",
        "\n",
        "# Criar uma classe Saída de Triagem (TriagemOut)\n",
        "class TriagemOut(BaseModel):\n",
        "    decisao: Literal[\"AUTO_RESOLVER\", \"PEDIR_INFO\", \"ABRIR_CHAMADO\"]\n",
        "    urgencia: Literal[\"BAIXA\", \"MEDIA\", \"ALTA\"]\n",
        "    campos_faltantes: List[str] = Field(default_factory=list)"
      ],
      "metadata": {
        "id": "XKPajkSIfbAx"
      },
      "execution_count": 9,
      "outputs": []
    },
    {
      "cell_type": "code",
      "source": [
        "# Criar um LLM específico para a Triagem\n",
        "llm_triagem = ChatGoogleGenerativeAI(\n",
        "    model = \"gemini-2.5-flash\",\n",
        "    temperature = 0.0,\n",
        "    api_key = GOOGLE_API_KEY\n",
        ")"
      ],
      "metadata": {
        "id": "uf92TEx1iXTM"
      },
      "execution_count": 10,
      "outputs": []
    },
    {
      "cell_type": "code",
      "source": [
        "# Importar bibliotecas de mensagens do Langchain (mensagens do sistema e do usuário)\n",
        "from langchain_core.messages import SystemMessage, HumanMessage\n",
        "\n",
        "# Criar o fluxo de Triagem baseado na classe Saída de Triagem\n",
        "triagem_chain = llm_triagem.with_structured_output(TriagemOut)\n",
        "\n",
        "# Criar a função Triagem\n",
        "def triagem(mensagem: str) -> Dict:\n",
        "  saida: TriagemOut = triagem_chain.invoke([\n",
        "      SystemMessage(content=Triagem_Prompt),\n",
        "      HumanMessage(content=mensagem)\n",
        "  ])\n",
        "\n",
        "  return saida.model_dump()"
      ],
      "metadata": {
        "id": "JTIvzSfKjPgM"
      },
      "execution_count": 11,
      "outputs": []
    },
    {
      "cell_type": "markdown",
      "source": [
        "Testando o Agente de IA"
      ],
      "metadata": {
        "id": "syvuaIYytT6r"
      }
    },
    {
      "cell_type": "code",
      "source": [
        "# Perguntas Teste\n",
        "testes = [\"Posso reembolsar a Internet?\",\n",
        "          \"Quero mais 5 dias de trabalho remoto. Como faço?\",\n",
        "          \"Posso reembolsar cursos ou treinamentos?\",\n",
        "          \"Quantas capivaras tem no Rio Pinheiros?\"]"
      ],
      "metadata": {
        "id": "IuXMmBvtr8-O"
      },
      "execution_count": 12,
      "outputs": []
    },
    {
      "cell_type": "code",
      "source": [
        "# Imprimir o resultado dos testes no Agente de IA\n",
        "for mensagem_teste in testes:\n",
        "  print(f\"Pergunta: {mensagem_teste}\\n -> Resposta: {triagem(mensagem_teste)}\\n\")"
      ],
      "metadata": {
        "colab": {
          "base_uri": "https://localhost:8080/"
        },
        "id": "DO5i4tgEtaKE",
        "outputId": "0dd9a50a-f00f-42b9-c9fe-8fefdf05f3be"
      },
      "execution_count": 13,
      "outputs": [
        {
          "output_type": "stream",
          "name": "stdout",
          "text": [
            "Pergunta: Posso reembolsar a Internet?\n",
            " -> Resposta: {'decisao': 'AUTO_RESOLVER', 'urgencia': 'BAIXA', 'campos_faltantes': []}\n",
            "\n",
            "Pergunta: Quero mais 5 dias de trabalho remoto. Como faço?\n",
            " -> Resposta: {'decisao': 'ABRIR_CHAMADO', 'urgencia': 'MEDIA', 'campos_faltantes': []}\n",
            "\n",
            "Pergunta: Posso reembolsar cursos ou treinamentos?\n",
            " -> Resposta: {'decisao': 'AUTO_RESOLVER', 'urgencia': 'BAIXA', 'campos_faltantes': []}\n",
            "\n",
            "Pergunta: Quantas capivaras tem no Rio Pinheiros?\n",
            " -> Resposta: {'decisao': 'PEDIR_INFO', 'urgencia': 'BAIXA', 'campos_faltantes': ['contexto da política interna']}\n",
            "\n"
          ]
        }
      ]
    },
    {
      "cell_type": "markdown",
      "source": [
        "**PALAVRA-CHAVE = LANGCHAIN**"
      ],
      "metadata": {
        "id": "V-KdVLu0uB3M"
      }
    },
    {
      "cell_type": "markdown",
      "source": [
        "# Aula 2 - Construindo a Base de Conhecimento com RAG\n",
        "> Criando uma RAG (Retrieval-Augmented Generation - Geração Aumentada por Recuperação)"
      ],
      "metadata": {
        "id": "QpIXkXXLoVpQ"
      }
    },
    {
      "cell_type": "code",
      "source": [
        "# Instalar bibliotecas necessárias para criação do RAG\n",
        "!pip install -q --upgrade langchain_community faiss-cpu langchain-text-splitters pymupdf"
      ],
      "metadata": {
        "id": "JgdnmMTOuUna",
        "colab": {
          "base_uri": "https://localhost:8080/"
        },
        "outputId": "5dba2024-fa1c-40d6-aa1f-9a57429d6256"
      },
      "execution_count": 14,
      "outputs": [
        {
          "output_type": "stream",
          "name": "stdout",
          "text": [
            "\u001b[2K   \u001b[90m━━━━━━━━━━━━━━━━━━━━━━━━━━━━━━━━━━━━━━━━\u001b[0m \u001b[32m2.5/2.5 MB\u001b[0m \u001b[31m42.9 MB/s\u001b[0m eta \u001b[36m0:00:00\u001b[0m\n",
            "\u001b[2K   \u001b[90m━━━━━━━━━━━━━━━━━━━━━━━━━━━━━━━━━━━━━━━━\u001b[0m \u001b[32m31.4/31.4 MB\u001b[0m \u001b[31m57.4 MB/s\u001b[0m eta \u001b[36m0:00:00\u001b[0m\n",
            "\u001b[2K   \u001b[90m━━━━━━━━━━━━━━━━━━━━━━━━━━━━━━━━━━━━━━━━\u001b[0m \u001b[32m24.1/24.1 MB\u001b[0m \u001b[31m77.3 MB/s\u001b[0m eta \u001b[36m0:00:00\u001b[0m\n",
            "\u001b[2K   \u001b[90m━━━━━━━━━━━━━━━━━━━━━━━━━━━━━━━━━━━━━━━━\u001b[0m \u001b[32m64.7/64.7 kB\u001b[0m \u001b[31m5.0 MB/s\u001b[0m eta \u001b[36m0:00:00\u001b[0m\n",
            "\u001b[2K   \u001b[90m━━━━━━━━━━━━━━━━━━━━━━━━━━━━━━━━━━━━━━━━\u001b[0m \u001b[32m50.9/50.9 kB\u001b[0m \u001b[31m3.8 MB/s\u001b[0m eta \u001b[36m0:00:00\u001b[0m\n",
            "\u001b[?25h\u001b[31mERROR: pip's dependency resolver does not currently take into account all the packages that are installed. This behaviour is the source of the following dependency conflicts.\n",
            "google-colab 1.0.0 requires requests==2.32.4, but you have requests 2.32.5 which is incompatible.\u001b[0m\u001b[31m\n",
            "\u001b[0m"
          ]
        }
      ]
    },
    {
      "cell_type": "code",
      "source": [
        "# Importar bibliotecas instaladas (langchain_community, faiss-cpu, langchain-text-splitters, pymupdf)\n",
        "from pathlib import Path # Acesso aos PDFs\n",
        "from langchain_community.document_loaders import PyMuPDFLoader\n",
        "\n",
        "# Criar lista vazia para os documentos a serem carregados\n",
        "docs = []\n",
        "\n",
        "# Leitura dos documentos por iteração (não sei quantos)\n",
        "for n in Path(\"/content/\").glob(\"*.pdf\"):\n",
        "    try:\n",
        "        loader = PyMuPDFLoader(str(n))\n",
        "        docs.extend(loader.load())\n",
        "        print(f\"Carregado com sucesso arquivo: {n.name}\")\n",
        "    except Exception as erro:\n",
        "        print(f\"Erro ao carregar arquivo: {n.name}: {erro}\")\n",
        "\n",
        "# Imprimir quantos documentos foram carregados\n",
        "print(f\"Total de documentos carregados: {len(docs)}\")"
      ],
      "metadata": {
        "colab": {
          "base_uri": "https://localhost:8080/"
        },
        "id": "580-UAoftxT7",
        "outputId": "66e43702-001e-4ec0-dd28-01301fb95b50"
      },
      "execution_count": 15,
      "outputs": [
        {
          "output_type": "stream",
          "name": "stdout",
          "text": [
            "Carregado com sucesso arquivo: Política de Uso de E-mail e Segurança da Informação.pdf\n",
            "Carregado com sucesso arquivo: Política de Reembolsos (Viagens e Despesas).pdf\n",
            "Carregado com sucesso arquivo: Políticas de Home Office.pdf\n",
            "Total de documentos carregados: 3\n"
          ]
        }
      ]
    },
    {
      "cell_type": "code",
      "source": [
        "# Quebra do documento em \"pedaços\" para facilitar leitura / processamento\n",
        "\n",
        "# Importar biblioteca necessária\n",
        "from langchain_text_splitters import RecursiveCharacterTextSplitter\n",
        "\n",
        "# Dividir / quebrar documentos em chunks de 300 caracteres, com overlap de 30 caracteres\n",
        "splitter = RecursiveCharacterTextSplitter(chunk_size=300, chunk_overlap=30)\n",
        "\n",
        "# Salvar os chunks processados\n",
        "chunks = splitter.split_documents(docs)\n",
        "\n",
        "# Imprimir os chunks salvos\n",
        "for chunk in chunks:\n",
        "    print(chunk)\n",
        "    print(\"------------------------------------\\n\")"
      ],
      "metadata": {
        "colab": {
          "base_uri": "https://localhost:8080/"
        },
        "id": "vtUt14ym7Aw1",
        "outputId": "ff6142cc-3b78-414e-c47e-650e1f3fb35e"
      },
      "execution_count": 16,
      "outputs": [
        {
          "output_type": "stream",
          "name": "stdout",
          "text": [
            "page_content='Política de Uso de E-mail e Segurança da Informação \n",
            "1.​ É proibido encaminhar a endereços pessoais documentos classificados como \n",
            "confidenciais.​\n",
            " \n",
            "2.​ Anexos externos devem ser enviados somente se criptografados e com senha \n",
            "compartilhada por canal seguro.​' metadata={'producer': 'Skia/PDF m141 Google Docs Renderer', 'creator': '', 'creationdate': '', 'source': '/content/Política de Uso de E-mail e Segurança da Informação.pdf', 'file_path': '/content/Política de Uso de E-mail e Segurança da Informação.pdf', 'total_pages': 1, 'format': 'PDF 1.4', 'title': 'Política de Uso de E-mail e Segurança da Informação', 'author': '', 'subject': '', 'keywords': '', 'moddate': '', 'trapped': '', 'modDate': '', 'creationDate': '', 'page': 0}\n",
            "------------------------------------\n",
            "\n",
            "page_content='3.​ Phishing: verificar remetente e denunciar suspeitos. Reporte mensagens suspeitas \n",
            "diretamente ao Suporte imediatamente.​\n",
            " \n",
            "4.​ Retenção: mensagens que contenham dados pessoais devem seguir as diretrizes \n",
            "de retenção definidas pela equipe de Privacidade.​' metadata={'producer': 'Skia/PDF m141 Google Docs Renderer', 'creator': '', 'creationdate': '', 'source': '/content/Política de Uso de E-mail e Segurança da Informação.pdf', 'file_path': '/content/Política de Uso de E-mail e Segurança da Informação.pdf', 'total_pages': 1, 'format': 'PDF 1.4', 'title': 'Política de Uso de E-mail e Segurança da Informação', 'author': '', 'subject': '', 'keywords': '', 'moddate': '', 'trapped': '', 'modDate': '', 'creationDate': '', 'page': 0}\n",
            "------------------------------------\n",
            "\n",
            "page_content='5.​ Solicitações de exceção de anexos ou domínios devem ser abertas por \n",
            "chamado, com justificativa do gestor.​\n",
            "​' metadata={'producer': 'Skia/PDF m141 Google Docs Renderer', 'creator': '', 'creationdate': '', 'source': '/content/Política de Uso de E-mail e Segurança da Informação.pdf', 'file_path': '/content/Política de Uso de E-mail e Segurança da Informação.pdf', 'total_pages': 1, 'format': 'PDF 1.4', 'title': 'Política de Uso de E-mail e Segurança da Informação', 'author': '', 'subject': '', 'keywords': '', 'moddate': '', 'trapped': '', 'modDate': '', 'creationDate': '', 'page': 0}\n",
            "------------------------------------\n",
            "\n",
            "page_content='Política de Reembolsos (Viagens e Despesas) \n",
            "1.​ Reembolso: requer nota fiscal e deve ser submetido em até 10 dias corridos após a \n",
            "despesa.​\n",
            " \n",
            "2.​ Alimentação em viagem: limite de R$ 70/dia por pessoa. Bebidas alcoólicas não \n",
            "são reembolsáveis.​' metadata={'producer': 'Skia/PDF m141 Google Docs Renderer', 'creator': '', 'creationdate': '', 'source': '/content/Política de Reembolsos (Viagens e Despesas).pdf', 'file_path': '/content/Política de Reembolsos (Viagens e Despesas).pdf', 'total_pages': 1, 'format': 'PDF 1.4', 'title': 'Política de Reembolsos (Viagens e Despesas)', 'author': '', 'subject': '', 'keywords': '', 'moddate': '', 'trapped': '', 'modDate': '', 'creationDate': '', 'page': 0}\n",
            "------------------------------------\n",
            "\n",
            "page_content='são reembolsáveis.​\n",
            " \n",
            "3.​ Transporte: táxi/app são permitidos quando não houver alternativa viável. \n",
            "Comprovantes obrigatórios.​\n",
            " \n",
            "4.​ Internet para home office: reembolsável via subsídio mensal de até R$ 100, \n",
            "conforme política de Home Office.​' metadata={'producer': 'Skia/PDF m141 Google Docs Renderer', 'creator': '', 'creationdate': '', 'source': '/content/Política de Reembolsos (Viagens e Despesas).pdf', 'file_path': '/content/Política de Reembolsos (Viagens e Despesas).pdf', 'total_pages': 1, 'format': 'PDF 1.4', 'title': 'Política de Reembolsos (Viagens e Despesas)', 'author': '', 'subject': '', 'keywords': '', 'moddate': '', 'trapped': '', 'modDate': '', 'creationDate': '', 'page': 0}\n",
            "------------------------------------\n",
            "\n",
            "page_content='5.​ Cursos e certificações: exigem aprovação prévia do gestor e orçamento do time.​\n",
            " \n",
            "6.​ Custos excepcionais (ex.: franquia de bagagem extra): devem ser justificados no \n",
            "chamado e aprovados antes da compra.' metadata={'producer': 'Skia/PDF m141 Google Docs Renderer', 'creator': '', 'creationdate': '', 'source': '/content/Política de Reembolsos (Viagens e Despesas).pdf', 'file_path': '/content/Política de Reembolsos (Viagens e Despesas).pdf', 'total_pages': 1, 'format': 'PDF 1.4', 'title': 'Política de Reembolsos (Viagens e Despesas)', 'author': '', 'subject': '', 'keywords': '', 'moddate': '', 'trapped': '', 'modDate': '', 'creationDate': '', 'page': 0}\n",
            "------------------------------------\n",
            "\n",
            "page_content='Políticas de Home Office \n",
            "1.​ A empresa adota modelo híbrido: mínimo de 2 dias presenciais por semana, salvo \n",
            "exceções aprovadas pelo gestor e RH.​\n",
            " \n",
            "2.​ Equipamentos: a empresa fornece notebook e periféricos. O colaborador é \n",
            "responsável por zelar pela conservação.​' metadata={'producer': 'Skia/PDF m141 Google Docs Renderer', 'creator': '', 'creationdate': '', 'source': '/content/Políticas de Home Office.pdf', 'file_path': '/content/Políticas de Home Office.pdf', 'total_pages': 1, 'format': 'PDF 1.4', 'title': 'Políticas de Home Office', 'author': '', 'subject': '', 'keywords': '', 'moddate': '', 'trapped': '', 'modDate': '', 'creationDate': '', 'page': 0}\n",
            "------------------------------------\n",
            "\n",
            "page_content='3.​ Segurança: é obrigatório uso de VPN e bloqueio de tela. Documentos confidenciais \n",
            "não devem ser impressos fora do escritório.​\n",
            " \n",
            "4.​ Ergonomia: recomendamos cadeira adequada e suporte de monitor. O RH pode \n",
            "avaliar solicitação de apoio ergonômico.​' metadata={'producer': 'Skia/PDF m141 Google Docs Renderer', 'creator': '', 'creationdate': '', 'source': '/content/Políticas de Home Office.pdf', 'file_path': '/content/Políticas de Home Office.pdf', 'total_pages': 1, 'format': 'PDF 1.4', 'title': 'Políticas de Home Office', 'author': '', 'subject': '', 'keywords': '', 'moddate': '', 'trapped': '', 'modDate': '', 'creationDate': '', 'page': 0}\n",
            "------------------------------------\n",
            "\n",
            "page_content='5.​ Conectividade: há subsídio mensal de internet domiciliar para quem trabalha em \n",
            "home office, até R$ 100/mês, mediante nota fiscal nominal.​\n",
            " \n",
            "Solicitação de exceção (ex.: 4-5 dias remotos): deve ser formalizada via chamado ao RH \n",
            "com justificativa do gestor.' metadata={'producer': 'Skia/PDF m141 Google Docs Renderer', 'creator': '', 'creationdate': '', 'source': '/content/Políticas de Home Office.pdf', 'file_path': '/content/Políticas de Home Office.pdf', 'total_pages': 1, 'format': 'PDF 1.4', 'title': 'Políticas de Home Office', 'author': '', 'subject': '', 'keywords': '', 'moddate': '', 'trapped': '', 'modDate': '', 'creationDate': '', 'page': 0}\n",
            "------------------------------------\n",
            "\n"
          ]
        }
      ]
    },
    {
      "cell_type": "code",
      "source": [
        "# Sentence Embedding utilizando biblioteca do Gemini que faz o \"embedding\"\n",
        "\n",
        "# Importar biblioteca necessária para o \"embedding\" (vetorização dos termos semânticos)\n",
        "from langchain_google_genai import GoogleGenerativeAIEmbeddings\n",
        "\n",
        "# Salvar embendding na variável \"embeddings\"\n",
        "embeddings = GoogleGenerativeAIEmbeddings(\n",
        "    model=\"models/gemini-embedding-001\",\n",
        "    google_api_key=GOOGLE_API_KEY\n",
        ")"
      ],
      "metadata": {
        "id": "hoBVdM9MAof3"
      },
      "execution_count": 17,
      "outputs": []
    },
    {
      "cell_type": "code",
      "source": [
        "# Importar biblioteca necessária (FAISS - Facebook AI Similarity Search)\n",
        "from langchain_community.vectorstores import FAISS\n",
        "\n",
        "# Criar base de dados otimizada (o índice FAISS) dos documentos (as políticas da empresa) usando os embeddings\n",
        "vectorstore = FAISS.from_documents(chunks, embeddings)\n",
        "\n",
        "# Definir o limite de recuperação (da pergunta do usuário)\n",
        "retriever = vectorstore.as_retriever(search_type=\"similarity_score_threshold\",\n",
        "                                     search_kwargs={\"score_threshold\":0.3, \"k\": 4})"
      ],
      "metadata": {
        "id": "oSRZ-IW6AuTc"
      },
      "execution_count": 18,
      "outputs": []
    },
    {
      "cell_type": "code",
      "source": [
        "# Definir Prompt Sistema\n",
        "\n",
        "# Importar bibliotecas necessárias\n",
        "from langchain_core.prompts import ChatPromptTemplate\n",
        "from langchain.chains.combine_documents import create_stuff_documents_chain\n",
        "\n",
        "# Definir Prompt do RAG\n",
        "prompt_rag = ChatPromptTemplate.from_messages([\n",
        "    (\"system\",\n",
        "     \"Você é um Assistente de Políticas Internas (RH/IT) da empresa Carraro Desenvolvimento. \"\n",
        "     \"Responda SOMENTE com base no contexto fornecido. \"\n",
        "     \"Se não houver base suficiente, responda apenas 'Não sei'.\"),\n",
        "\n",
        "    (\"human\", \"Pergunta: {input}\\n\\nContexto:\\n{context}\")\n",
        "])\n",
        "\n",
        "# Conectar o modelo llm_triagem ao prompt_rag\n",
        "document_chain = create_stuff_documents_chain(llm_triagem, prompt_rag)"
      ],
      "metadata": {
        "id": "vIu6VuwDO00Y"
      },
      "execution_count": 19,
      "outputs": []
    },
    {
      "cell_type": "code",
      "source": [
        "# Formatador da saída do RAG\n",
        "\n",
        "# Importar as bibliotecas necessárias para o formatador\n",
        "import re, pathlib\n",
        "\n",
        "# Função que limpa texto da saída\n",
        "def _clean_text(s: str) -> str:\n",
        "    return re.sub(r\"\\s+\", \" \", s or \"\").strip()\n",
        "\n",
        "# Função para extrair trechos\n",
        "def extrair_trecho(texto: str, query: str, janela: int = 240) -> str:\n",
        "    txt = _clean_text(texto)\n",
        "    termos = [t.lower() for t in re.findall(r\"\\w+\", query or \"\") if len(t) >= 4]\n",
        "    pos = -1\n",
        "    for t in termos:\n",
        "        pos = txt.lower().find(t)\n",
        "        if pos != -1: break\n",
        "    if pos == -1: pos = 0\n",
        "    ini, fim = max(0, pos - janela//2), min(len(txt), pos + janela//2)\n",
        "    return txt[ini:fim]\n",
        "\n",
        "# Função para formatar saída das citações\n",
        "def formatar_citacoes(docs_rel: List, query: str) -> List[Dict]:\n",
        "    cites, seen = [], set()\n",
        "    for d in docs_rel:\n",
        "        src = pathlib.Path(d.metadata.get(\"source\",\"\")).name\n",
        "        page = int(d.metadata.get(\"page\", 0)) + 1\n",
        "        key = (src, page)\n",
        "        if key in seen:\n",
        "            continue\n",
        "        seen.add(key)\n",
        "        cites.append({\"documento\": src, \"pagina\": page, \"trecho\": extrair_trecho(d.page_content, query)})\n",
        "    return cites[:3]"
      ],
      "metadata": {
        "id": "M_Z2dSwbrlCL"
      },
      "execution_count": 20,
      "outputs": []
    },
    {
      "cell_type": "code",
      "source": [
        "# Criar função que faz as perguntas e retorna as respostas\n",
        "\n",
        "def perguntar_politica_RAG(pergunta: str) -> Dict:\n",
        "    docs_relacionados = retriever.invoke(pergunta)\n",
        "\n",
        "    if not docs_relacionados:\n",
        "        return {\"answer\": \"Não sei!\",\n",
        "                \"citacoes\": [],\n",
        "                \"contexto_encontrado\": False}\n",
        "\n",
        "    answer = document_chain.invoke({\"input\": pergunta,\n",
        "                                    \"context\": docs_relacionados}) # Parâmetros definidos no Prompt do RAG\n",
        "\n",
        "    # Limpar qualquer \"resto\" de respostas do LLM\n",
        "    txt = (answer or \"\").strip()\n",
        "\n",
        "    # Se o modelo respondeu \"Não sei\", reforça o comportamento esperado\n",
        "    if txt.rstrip(\".!?\") == \"Não sei\":\n",
        "        return {\"answer\": \"Não sei!\",\n",
        "                \"citacoes\": [],\n",
        "                \"contexto_encontrado\": False}\n",
        "\n",
        "    # Retornar resposta, citações e contexto encontrado\n",
        "    return {\"answer\": txt,\n",
        "            \"citacoes\": formatar_citacoes(docs_relacionados, pergunta),\n",
        "            \"contexto_encontrado\": True}"
      ],
      "metadata": {
        "id": "zmmEcFi8Rbc8"
      },
      "execution_count": 21,
      "outputs": []
    },
    {
      "cell_type": "code",
      "source": [
        "# Parâmetros de teste do RAG\n",
        "testes = [\"Posso reembolsar a internet?\",\n",
        "          \"Quero mais 5 dias de trabalho remoto. Como faço?\",\n",
        "          \"Posso reembolsar cursos ou treinamentos da Alura?\",\n",
        "          \"Quantas capivaras tem no Rio Pinheiros?\"]"
      ],
      "metadata": {
        "id": "S9bdFy0LqEGt"
      },
      "execution_count": 22,
      "outputs": []
    },
    {
      "cell_type": "code",
      "source": [
        "# Executar o RAG baseado nos testes e imprimir respostas\n",
        "for msg_teste in testes:\n",
        "    resposta = perguntar_politica_RAG(msg_teste)\n",
        "    print(f\"PERGUNTA: {msg_teste}\")\n",
        "    print(f\"RESPOSTA: {resposta['answer']}\")\n",
        "    if resposta['contexto_encontrado']:\n",
        "        print(\" CITAÇÕES:\")\n",
        "        for c in resposta['citacoes']:\n",
        "            print(f\" - Documento: {c['documento']}, Página: {c['pagina']}\")\n",
        "            print(f\"   Trecho: {c['trecho']}\")\n",
        "        print(\"------------------------------------\")"
      ],
      "metadata": {
        "colab": {
          "base_uri": "https://localhost:8080/"
        },
        "id": "lF8KMNchqHpK",
        "outputId": "aadef65e-79ee-4c07-b5d5-ebdb9535ae62"
      },
      "execution_count": 23,
      "outputs": [
        {
          "output_type": "stream",
          "name": "stdout",
          "text": [
            "PERGUNTA: Posso reembolsar a internet?\n",
            "RESPOSTA: Sim, a internet para home office é reembolsável via subsídio mensal de até R$ 100, mediante nota fiscal nominal.\n",
            " CITAÇÕES:\n",
            " - Documento: Política de Reembolsos (Viagens e Despesas).pdf, Página: 1\n",
            "   Trecho: lsáveis.​ 3.​ Transporte: táxi/app são permitidos quando não houver alternativa viável. Comprovantes obrigatórios.​ 4.​ Internet para home office: reembolsável via subsídio mensal de até R$ 100, conforme política de Home Office.​\n",
            " - Documento: Políticas de Home Office.pdf, Página: 1\n",
            "   Trecho: 5.​ Conectividade: há subsídio mensal de internet domiciliar para quem trabalha em home office, até R$ 100/mês, mediante nota fiscal nominal.​ Solicitação de exc\n",
            "------------------------------------\n",
            "PERGUNTA: Quero mais 5 dias de trabalho remoto. Como faço?\n",
            "RESPOSTA: Você deve formalizar a solicitação via chamado ao RH com a justificativa do seu gestor.\n",
            " CITAÇÕES:\n",
            " - Documento: Políticas de Home Office.pdf, Página: 1\n",
            "   Trecho: liar para quem trabalha em home office, até R$ 100/mês, mediante nota fiscal nominal.​ Solicitação de exceção (ex.: 4-5 dias remotos): deve ser formalizada via chamado ao RH com justificativa do gestor.\n",
            " - Documento: Política de Reembolsos (Viagens e Despesas).pdf, Página: 1\n",
            "   Trecho: são reembolsáveis.​ 3.​ Transporte: táxi/app são permitidos quando não houver alternativa viável. Comprovantes obrigatór\n",
            "------------------------------------\n",
            "PERGUNTA: Posso reembolsar cursos ou treinamentos da Alura?\n",
            "RESPOSTA: Sim, cursos e certificações são reembolsáveis, desde que haja aprovação prévia do gestor e orçamento do time.\n",
            " CITAÇÕES:\n",
            " - Documento: Política de Reembolsos (Viagens e Despesas).pdf, Página: 1\n",
            "   Trecho: Política de Reembolsos (Viagens e Despesas) 1.​ Reembolso: requer nota fiscal e deve ser submetido em até 10 dias corrid\n",
            " - Documento: Políticas de Home Office.pdf, Página: 1\n",
            "   Trecho: Políticas de Home Office 1.​ A empresa adota modelo híbrido: mínimo de 2 dias presenciais por semana, salvo exceções apr\n",
            "------------------------------------\n",
            "PERGUNTA: Quantas capivaras tem no Rio Pinheiros?\n",
            "RESPOSTA: Não sei!\n"
          ]
        }
      ]
    },
    {
      "cell_type": "markdown",
      "source": [
        "**PALAVRA-CHAVE = CHUNKS**"
      ],
      "metadata": {
        "id": "EumBJU-yAo1n"
      }
    },
    {
      "cell_type": "markdown",
      "source": [
        "# Aula 3 - Orquestração do Agente de IA com LangGraph\n",
        "> Estruturação do fluxo do agente de IA usando o LangGraph"
      ],
      "metadata": {
        "id": "xfVsZYyXsedC"
      }
    },
    {
      "cell_type": "code",
      "source": [
        "!pip install -q --upgrade langgraph"
      ],
      "metadata": {
        "id": "Jrs22GsonqPe",
        "colab": {
          "base_uri": "https://localhost:8080/"
        },
        "outputId": "eb08c9ad-8b22-4edb-913e-9b312e822eb7"
      },
      "execution_count": 24,
      "outputs": [
        {
          "output_type": "stream",
          "name": "stdout",
          "text": [
            "\u001b[?25l     \u001b[90m━━━━━━━━━━━━━━━━━━━━━━━━━━━━━━━━━━━━━━━━\u001b[0m \u001b[32m0.0/43.7 kB\u001b[0m \u001b[31m?\u001b[0m eta \u001b[36m-:--:--\u001b[0m\r\u001b[2K     \u001b[90m━━━━━━━━━━━━━━━━━━━━━━━━━━━━━━━━━━━━━━━━\u001b[0m \u001b[32m43.7/43.7 kB\u001b[0m \u001b[31m2.1 MB/s\u001b[0m eta \u001b[36m0:00:00\u001b[0m\n",
            "\u001b[2K   \u001b[90m━━━━━━━━━━━━━━━━━━━━━━━━━━━━━━━━━━━━━━━━\u001b[0m \u001b[32m153.3/153.3 kB\u001b[0m \u001b[31m7.9 MB/s\u001b[0m eta \u001b[36m0:00:00\u001b[0m\n",
            "\u001b[2K   \u001b[90m━━━━━━━━━━━━━━━━━━━━━━━━━━━━━━━━━━━━━━━━\u001b[0m \u001b[32m43.9/43.9 kB\u001b[0m \u001b[31m2.7 MB/s\u001b[0m eta \u001b[36m0:00:00\u001b[0m\n",
            "\u001b[2K   \u001b[90m━━━━━━━━━━━━━━━━━━━━━━━━━━━━━━━━━━━━━━━━\u001b[0m \u001b[32m54.6/54.6 kB\u001b[0m \u001b[31m4.1 MB/s\u001b[0m eta \u001b[36m0:00:00\u001b[0m\n",
            "\u001b[2K   \u001b[90m━━━━━━━━━━━━━━━━━━━━━━━━━━━━━━━━━━━━━━━━\u001b[0m \u001b[32m216.7/216.7 kB\u001b[0m \u001b[31m15.0 MB/s\u001b[0m eta \u001b[36m0:00:00\u001b[0m\n",
            "\u001b[?25h"
          ]
        }
      ]
    },
    {
      "cell_type": "code",
      "source": [
        "# Importar bibliotecas necessárias para definição dos componentes do Agente\n",
        "from typing import TypedDict, Optional\n",
        "\n",
        "# Definir a Classe do Agente (propriedades do mesmo, estruturas de estado)\n",
        "class AgentState(TypedDict, total = False):\n",
        "  pergunta: str\n",
        "  triagem: dict\n",
        "  resposta: Optional[str]\n",
        "  citacoes: List[dict]\n",
        "  rag_sucesso: bool\n",
        "  acao_final: str"
      ],
      "metadata": {
        "id": "ZJky6AR1ysJ-"
      },
      "execution_count": 25,
      "outputs": []
    },
    {
      "cell_type": "markdown",
      "source": [
        "Criar as funções de ação para cada nó do Grafo"
      ],
      "metadata": {
        "id": "0xNwDrP08Od4"
      }
    },
    {
      "cell_type": "code",
      "source": [
        "# Função do Nó Triagem\n",
        "def node_triagem(state: AgentState) -> AgentState:\n",
        "  print(\"Executando nó de Triagem...\")\n",
        "\n",
        "  return {\"triagem\": triagem(state[\"pergunta\"])}"
      ],
      "metadata": {
        "id": "Gtm42q7nyr-9"
      },
      "execution_count": 26,
      "outputs": []
    },
    {
      "cell_type": "code",
      "source": [
        "# Função do Nó Auto Resolver\n",
        "def node_auto_resolver(state: AgentState) -> AgentState:\n",
        "  print(\"Executando o Nó Auto Resolver...\")\n",
        "  resposta_rag = perguntar_politica_RAG(state[\"pergunta\"]) # Gerar a respota do RAG\n",
        "  update: AgentState = {\n",
        "      \"resposta\": resposta_rag[\"answer\"],\n",
        "      \"citacoes\": resposta_rag.get(\"citacoes\", []),\n",
        "      \"rag_sucesso\": resposta_rag[\"contexto_encontrado\"]\n",
        "  }\n",
        "\n",
        "  # Verificar se o RAG teve sucesso e conseguiu resolver sozinho (AUTO_RESOLVER)\n",
        "  if resposta_rag[\"contexto_encontrado\"]:\n",
        "    update[\"acao_final\"] = \"AUTO_RESOLVER\"\n",
        "\n",
        "  return update"
      ],
      "metadata": {
        "id": "_-zBG0Cl8Uja"
      },
      "execution_count": 27,
      "outputs": []
    },
    {
      "cell_type": "code",
      "source": [
        "# Função do Nó Pedir Informações\n",
        "def node_pedir_info(state: AgentState) -> AgentState:\n",
        "  print(\"Executando o Nó Pedir Informações...\")\n",
        "  faltantes = state[\"triagem\"].get(\"campos_faltantes\", [])\n",
        "\n",
        "  # Verifica se faltou alguma informação para o RAG e captura esse \"detalhe\"\n",
        "  if faltantes:\n",
        "        detalhe = \",\".join(faltantes)\n",
        "  else:\n",
        "        detalhe = \"Tema e contexto específico\"\n",
        "\n",
        "  return {\n",
        "      \"resposta\": f\"Para avançar, preciso de mais informações, detalhe: {detalhe}\",\n",
        "      \"citacoes\": [],\n",
        "      \"acao_final\": \"PEDIR_INFO\"\n",
        "  }"
      ],
      "metadata": {
        "id": "JHZrMLz0DJyl"
      },
      "execution_count": 28,
      "outputs": []
    },
    {
      "cell_type": "code",
      "source": [
        "# Função do Nó Abrir Chamado\n",
        "def node_abrir_chamado(state: AgentState) -> AgentState:\n",
        "  print(\"Executando o Nó Abrir Chamado...\")\n",
        "  triagem = state[\"triagem\"]\n",
        "\n",
        "  return {\n",
        "      \"resposta\": f\"Abrindo chamado com urgência {triagem['urgencia']}. Descrição: {state['pergunta'][:140]}\",\n",
        "      \"citacoes\": [],\n",
        "      \"acao_final\": \"ABRIR_CHAMADO\"\n",
        "  }"
      ],
      "metadata": {
        "id": "hOq-H_ZHFgWx"
      },
      "execution_count": 29,
      "outputs": []
    },
    {
      "cell_type": "markdown",
      "source": [
        "Criar a \"arestas\" (quem conecta aonde) dos nós"
      ],
      "metadata": {
        "id": "3o2Lgjx2Iuyu"
      }
    },
    {
      "cell_type": "code",
      "source": [
        "# Definir palavras-chaves para auxiliar as tomadas de decisão\n",
        "Keywords_Abrir_Chamado = [\"aprovação\",\n",
        "                          \"exceção\",\n",
        "                          \"liberação\",\n",
        "                          \"abrir ticket\",\n",
        "                          \"abrir chamado\",\n",
        "                          \"acesso especial\",\n",
        "                          \"requisição emergencial\"]\n",
        "\n",
        "# Função que \"decide\" o que fazer após Triagem\n",
        "def decidir_pos_triagem(state: AgentState) -> str:\n",
        "  print(\"Decidindo após Triagem...\")\n",
        "  decisao = state[\"triagem\"][\"decisao\"]\n",
        "\n",
        "  # Tomar decisão de qual estado ela irá\n",
        "  if decisao == \"AUTO_RESOLVER\": return \"auto\"\n",
        "  if decisao == \"PEDIR_INFO\": return \"info\"\n",
        "  if decisao == \"ABRIR_CHAMADO\": return \"chamado\""
      ],
      "metadata": {
        "id": "YcS3FrJKI22t"
      },
      "execution_count": 30,
      "outputs": []
    },
    {
      "cell_type": "code",
      "source": [
        "# Função que \"decide\" o que fazer após Auto_Resolver\n",
        "def decidir_pos_auto_resolver(state: AgentState) -> str:\n",
        "  print(\"Decidindo após o Auto Resolver...\")\n",
        "\n",
        "  # Se o RAG conseguir resolver o problema do usuário satisfatoriamente\n",
        "  if state.get(\"rag_sucesso\"):\n",
        "    print(\"RAG executado com sucesso, finalizando o processo.\")\n",
        "    return \"ok\"\n",
        "\n",
        "  # Se o RAG não conseguir resolver o problema, qual foi a pergunta?\n",
        "  state_da_pergunta = (state.get(\"pergunta\") or \"\").lower()\n",
        "\n",
        "  # Se não conseguir resolver o problema, mas encontrou palavras-chave para abertura de chamado, abrir chamado\n",
        "  if any(chave in state_da_pergunta for chave in Keywords_Abrir_Chamado):\n",
        "    print(\"RAG falhou, mas foram encontradas sinalizações para abertura de chamado. Abrindo...\")\n",
        "    return \"chamado\"\n",
        "\n",
        "  # Se não conseguir resolver o problema, e não encontrar palavras-chave para abertura de chamado\n",
        "  print(\"RAG falhou, sem sinalizações para abertura de chamado.  Vou solicitar mais informações...\")\n",
        "  return \"info\""
      ],
      "metadata": {
        "id": "AURrUNCzJf9d"
      },
      "execution_count": 31,
      "outputs": []
    },
    {
      "cell_type": "markdown",
      "source": [
        "Conectando tudo, Nós e Arestas do Grafo"
      ],
      "metadata": {
        "id": "h3AaePc_qsnl"
      }
    },
    {
      "cell_type": "code",
      "source": [
        "# Importar biblioteca LangGraph\n",
        "from langgraph.graph import StateGraph, START, END\n",
        "\n",
        "# Atribuir StateGraph a uma variável workflow\n",
        "workflow = StateGraph(AgentState)\n",
        "\n",
        "# Desenhar o Fluxo do Processo do RAG, workflow\n",
        "workflow.add_node(\"Triagem\", node_triagem)\n",
        "workflow.add_node(\"Auto_Resolver\", node_auto_resolver)\n",
        "workflow.add_node(\"Pedir_Info\", node_pedir_info)\n",
        "workflow.add_node(\"Abrir_Chamado\", node_abrir_chamado)\n",
        "\n",
        "# Conectar todo o restante\n",
        "workflow.add_edge(START, \"Triagem\")\n",
        "\n",
        "workflow.add_conditional_edges(\"Triagem\", decidir_pos_triagem,{\n",
        "    \"auto\": \"Auto_Resolver\",\n",
        "    \"info\": \"Pedir_Info\",\n",
        "    \"chamado\": \"Abrir_Chamado\"\n",
        "})\n",
        "\n",
        "workflow.add_conditional_edges(\"Auto_Resolver\", decidir_pos_auto_resolver, {\n",
        "    \"info\": \"Pedir_Info\",\n",
        "    \"chamado\": \"Abrir_Chamado\",\n",
        "    \"ok\": END\n",
        "})\n",
        "\n",
        "workflow.add_edge(\"Pedir_Info\", END)\n",
        "\n",
        "workflow.add_edge(\"Abrir_Chamado\", END)\n",
        "\n",
        "# Compilar o Grafo e salvar na variável \"grafo\"\n",
        "grafo_workflow = workflow.compile()"
      ],
      "metadata": {
        "id": "wc2dWt5xQxeN"
      },
      "execution_count": 32,
      "outputs": []
    },
    {
      "cell_type": "code",
      "source": [
        "# Plotar o Grafo\n",
        "\n",
        "# Importar biblioteca para exibição do grafo compilado\n",
        "from IPython.display import display, Image\n",
        "\n",
        "# Plotar o Grafo\n",
        "graph_bytes = grafo_workflow.get_graph().draw_mermaid_png()\n",
        "display(Image(graph_bytes))"
      ],
      "metadata": {
        "id": "8pgvucrIySzn",
        "colab": {
          "base_uri": "https://localhost:8080/",
          "height": 497
        },
        "outputId": "cca69081-99b3-4f9e-d87d-48627a7d13ef"
      },
      "execution_count": 33,
      "outputs": [
        {
          "output_type": "display_data",
          "data": {
            "image/png": "[encoded data removed]",
            "text/plain": [
              "<IPython.core.display.Image object>"
            ]
          },
          "metadata": {}
        }
      ]
    },
    {
      "cell_type": "code",
      "source": [
        "# Testar o Agente de IA\n",
        "\n",
        "# Parâmetros de teste do Agente de IA\n",
        "testes = [\"Posso reembolsar a internet?\",\n",
        "          \"Quero mais 5 dias de trabalho remoto. Como faço?\",\n",
        "          \"Posso reembolsar cursos ou treinamentos?\",\n",
        "          \"É possível reembolsar certificações do Google Cloud?\",\n",
        "          \"Posso obter o Google Gemini de graça?\",\n",
        "          \"Posso ter alimentação reembolsada?\",\n",
        "          \"Qual é o limite diário de reembolso de refeições?\",\n",
        "          \"Quantas capivaras tem no Rio Pinheiros?\"]"
      ],
      "metadata": {
        "id": "3MOZAijw2rcp"
      },
      "execution_count": 34,
      "outputs": []
    },
    {
      "cell_type": "code",
      "source": [
        "# Rodar o Agente de IA\n",
        "for msg_test in testes:\n",
        "  resposta_final = grafo_workflow.invoke({\"pergunta\": msg_test})\n",
        "\n",
        "  triagem_agente = resposta_final.get(\"triagem\", {})\n",
        "  print(f\"PERGUNTA: {msg_test}\")\n",
        "  print(f\"DECISÃO: {triagem_agente.get('decisao')} | URGÊNCIA: {triagem_agente.get('urgencia')} | AÇÃO FINAL: {resposta_final.get('acao_final')}\")\n",
        "  print(f\"RESPOSTA: {resposta_final.get('resposta')}\")\n",
        "  if resposta_final.get(\"citacoes\"):\n",
        "        print(\" CITAÇÕES:\")\n",
        "        for citacao in resposta_final.get(\"citacoes\"):\n",
        "            print(f\" - Documento: {citacao['documento']}, Página: {citacao['pagina']}\")\n",
        "            print(f\"   Trecho: {citacao['trecho']}\")\n",
        "\n",
        "  print(\"------------------------------------\")"
      ],
      "metadata": {
        "id": "JrhMduAA3xbL",
        "colab": {
          "base_uri": "https://localhost:8080/"
        },
        "outputId": "0d5068cc-ffda-4a32-e33f-ba16440c8c6e"
      },
      "execution_count": 35,
      "outputs": [
        {
          "output_type": "stream",
          "name": "stdout",
          "text": [
            "Executando nó de Triagem...\n",
            "Decidindo após Triagem...\n",
            "Executando o Nó Auto Resolver...\n",
            "Decidindo após o Auto Resolver...\n",
            "RAG executado com sucesso, finalizando o processo.\n",
            "PERGUNTA: Posso reembolsar a internet?\n",
            "DECISÃO: AUTO_RESOLVER | URGÊNCIA: BAIXA | AÇÃO FINAL: AUTO_RESOLVER\n",
            "RESPOSTA: Sim, a internet para home office é reembolsável via subsídio mensal de até R$ 100, mediante nota fiscal nominal.\n",
            " CITAÇÕES:\n",
            " - Documento: Política de Reembolsos (Viagens e Despesas).pdf, Página: 1\n",
            "   Trecho: lsáveis.​ 3.​ Transporte: táxi/app são permitidos quando não houver alternativa viável. Comprovantes obrigatórios.​ 4.​ Internet para home office: reembolsável via subsídio mensal de até R$ 100, conforme política de Home Office.​\n",
            " - Documento: Políticas de Home Office.pdf, Página: 1\n",
            "   Trecho: 5.​ Conectividade: há subsídio mensal de internet domiciliar para quem trabalha em home office, até R$ 100/mês, mediante nota fiscal nominal.​ Solicitação de exc\n",
            "------------------------------------\n",
            "Executando nó de Triagem...\n",
            "Decidindo após Triagem...\n",
            "Executando o Nó Abrir Chamado...\n",
            "PERGUNTA: Quero mais 5 dias de trabalho remoto. Como faço?\n",
            "DECISÃO: ABRIR_CHAMADO | URGÊNCIA: MEDIA | AÇÃO FINAL: ABRIR_CHAMADO\n",
            "RESPOSTA: Abrindo chamado com urgência MEDIA. Descrição: Quero mais 5 dias de trabalho remoto. Como faço?\n",
            "------------------------------------\n",
            "Executando nó de Triagem...\n",
            "Decidindo após Triagem...\n",
            "Executando o Nó Auto Resolver...\n",
            "Decidindo após o Auto Resolver...\n",
            "RAG executado com sucesso, finalizando o processo.\n",
            "PERGUNTA: Posso reembolsar cursos ou treinamentos?\n",
            "DECISÃO: AUTO_RESOLVER | URGÊNCIA: BAIXA | AÇÃO FINAL: AUTO_RESOLVER\n",
            "RESPOSTA: Sim, cursos e certificações são reembolsáveis, mas exigem aprovação prévia do gestor e orçamento do time.\n",
            " CITAÇÕES:\n",
            " - Documento: Política de Reembolsos (Viagens e Despesas).pdf, Página: 1\n",
            "   Trecho: Política de Reembolsos (Viagens e Despesas) 1.​ Reembolso: requer nota fiscal e deve ser submetido em até 10 dias corrid\n",
            " - Documento: Política de Uso de E-mail e Segurança da Informação.pdf, Página: 1\n",
            "   Trecho: 5.​ Solicitações de exceção de anexos ou domínios devem ser abertas por chamado, com justificativa do gestor.​ ​\n",
            "------------------------------------\n",
            "Executando nó de Triagem...\n",
            "Decidindo após Triagem...\n",
            "Executando o Nó Auto Resolver...\n",
            "Decidindo após o Auto Resolver...\n",
            "RAG executado com sucesso, finalizando o processo.\n",
            "PERGUNTA: É possível reembolsar certificações do Google Cloud?\n",
            "DECISÃO: AUTO_RESOLVER | URGÊNCIA: BAIXA | AÇÃO FINAL: AUTO_RESOLVER\n",
            "RESPOSTA: Sim, cursos e certificações são reembolsáveis, desde que haja aprovação prévia do gestor e orçamento do time.\n",
            " CITAÇÕES:\n",
            " - Documento: Política de Reembolsos (Viagens e Despesas).pdf, Página: 1\n",
            "   Trecho: Política de Reembolsos (Viagens e Despesas) 1.​ Reembolso: requer nota fiscal e deve ser submetido em até 10 dias corrid\n",
            " - Documento: Política de Uso de E-mail e Segurança da Informação.pdf, Página: 1\n",
            "   Trecho: 5.​ Solicitações de exceção de anexos ou domínios devem ser abertas por chamado, com justificativa do gestor.​ ​\n",
            "------------------------------------\n",
            "Executando nó de Triagem...\n",
            "Decidindo após Triagem...\n",
            "Executando o Nó Auto Resolver...\n",
            "Decidindo após o Auto Resolver...\n",
            "RAG falhou, sem sinalizações para abertura de chamado.  Vou solicitar mais informações...\n",
            "Executando o Nó Pedir Informações...\n",
            "PERGUNTA: Posso obter o Google Gemini de graça?\n",
            "DECISÃO: AUTO_RESOLVER | URGÊNCIA: BAIXA | AÇÃO FINAL: PEDIR_INFO\n",
            "RESPOSTA: Para avançar, preciso de mais informações, detalhe: Tema e contexto específico\n",
            "------------------------------------\n",
            "Executando nó de Triagem...\n",
            "Decidindo após Triagem...\n",
            "Executando o Nó Auto Resolver...\n",
            "Decidindo após o Auto Resolver...\n",
            "RAG executado com sucesso, finalizando o processo.\n",
            "PERGUNTA: Posso ter alimentação reembolsada?\n",
            "DECISÃO: AUTO_RESOLVER | URGÊNCIA: BAIXA | AÇÃO FINAL: AUTO_RESOLVER\n",
            "RESPOSTA: Sim, alimentação é reembolsável sob as seguintes condições:\n",
            "\n",
            "*   **Alimentação em viagem:** Há um limite de R$ 70/dia por pessoa. Bebidas alcoólicas não são reembolsáveis.\n",
            "*   **Requisitos gerais:** Requer nota fiscal e deve ser submetido em até 10 dias corridos após a despesa.\n",
            " CITAÇÕES:\n",
            " - Documento: Política de Reembolsos (Viagens e Despesas).pdf, Página: 1\n",
            "   Trecho: Viagens e Despesas) 1.​ Reembolso: requer nota fiscal e deve ser submetido em até 10 dias corridos após a despesa.​ 2.​ Alimentação em viagem: limite de R$ 70/dia por pessoa. Bebidas alcoólicas não são reembolsáveis.​\n",
            " - Documento: Políticas de Home Office.pdf, Página: 1\n",
            "   Trecho: 5.​ Conectividade: há subsídio mensal de internet domiciliar para quem trabalha em home office, até R$ 100/mês, mediante\n",
            "------------------------------------\n",
            "Executando nó de Triagem...\n",
            "Decidindo após Triagem...\n",
            "Executando o Nó Auto Resolver...\n",
            "Decidindo após o Auto Resolver...\n",
            "RAG executado com sucesso, finalizando o processo.\n",
            "PERGUNTA: Qual é o limite diário de reembolso de refeições?\n",
            "DECISÃO: AUTO_RESOLVER | URGÊNCIA: BAIXA | AÇÃO FINAL: AUTO_RESOLVER\n",
            "RESPOSTA: O limite diário de reembolso para alimentação em viagem é de R$ 70 por pessoa.\n",
            " CITAÇÕES:\n",
            " - Documento: Política de Reembolsos (Viagens e Despesas).pdf, Página: 1\n",
            "   Trecho:  Reembolso: requer nota fiscal e deve ser submetido em até 10 dias corridos após a despesa.​ 2.​ Alimentação em viagem: limite de R$ 70/dia por pessoa. Bebidas alcoólicas não são reembolsáveis.​\n",
            " - Documento: Políticas de Home Office.pdf, Página: 1\n",
            "   Trecho: 5.​ Conectividade: há subsídio mensal de internet domiciliar para quem trabalha em home office, até R$ 100/mês, mediante\n",
            "------------------------------------\n",
            "Executando nó de Triagem...\n",
            "Decidindo após Triagem...\n",
            "Executando o Nó Pedir Informações...\n",
            "PERGUNTA: Quantas capivaras tem no Rio Pinheiros?\n",
            "DECISÃO: PEDIR_INFO | URGÊNCIA: BAIXA | AÇÃO FINAL: PEDIR_INFO\n",
            "RESPOSTA: Para avançar, preciso de mais informações, detalhe: contexto da política interna\n",
            "------------------------------------\n"
          ]
        }
      ]
    },
    {
      "cell_type": "markdown",
      "source": [
        "**PALAVRA-CHAVE = LANGGRAPH**"
      ],
      "metadata": {
        "id": "3GPDuFr4sjLD"
      }
    }
  ]
}